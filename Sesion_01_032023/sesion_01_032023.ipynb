{
 "cells": [
  {
   "cell_type": "markdown",
   "metadata": {
    "slideshow": {
     "slide_type": "slide"
    }
   },
   "source": [
    "# Semillero de Maratones de programación\n",
    "---\n",
    "\n",
    "### Introducción a las maratones de programación\n",
    "#### Fundación Universitaria Konrad Lorenz"
   ]
  },
  {
   "cell_type": "code",
   "execution_count": 2,
   "metadata": {
    "slideshow": {
     "slide_type": "skip"
    }
   },
   "outputs": [],
   "source": [
    "import IPython"
   ]
  },
  {
   "cell_type": "markdown",
   "metadata": {
    "rise": {
     "scroll": true,
     "start_slideshow_at": "beginning"
    },
    "scroll": true,
    "slideshow": {
     "scroll": true,
     "slide_type": "slide"
    }
   },
   "source": [
    "## Indice\n",
    "---  \n",
    "1. [Prueba de tipeo](#id1)\n",
    "2. [Entorno de Trabajo - Consola](#id2)\n",
    "    -  [Python](#id2.1) \n",
    "    -  [Java](#id2.2)  \n",
    "    -  [C++](#id2.3)"
   ]
  },
  {
   "cell_type": "markdown",
   "metadata": {
    "slideshow": {
     "slide_type": "subslide"
    }
   },
   "source": [
    "3. [Entradas](#id3)\n",
    "    -  [Python](#id3.1) \n",
    "    -  [Java](#id3.2)  \n",
    "    -  [C++](#id3.3)\n",
    "4. [Problemas AdHoc](#id4)\n",
    "    - [Definición](#id4.1)\n",
    "    - [Ejemplos](#id4.2)"
   ]
  },
  {
   "cell_type": "markdown",
   "metadata": {
    "slideshow": {
     "slide_type": "subslide"
    }
   },
   "source": [
    "5. [Problemas para entrenar](#id5)\n",
    "    - [Principiantes](#id5.1)\n",
    "    - [Intermedios](#id5.2)\n",
    "5. [Truquitos varios](#id6)"
   ]
  },
  {
   "cell_type": "markdown",
   "metadata": {
    "slideshow": {
     "slide_type": "slide"
    }
   },
   "source": [
    "## Prueba de tipeo <a name=\"id1\"></a>\n",
    "---\n",
    "Webpage: [typing test](https://www.typingtest.com/)\n",
    "\n",
    "![Texto alternativo](imagenes/prueba_tipeo.png)"
   ]
  },
  {
   "cell_type": "markdown",
   "metadata": {
    "slideshow": {
     "slide_type": "slide"
    }
   },
   "source": [
    "## Entorno de Trabajo - Consola <a name=\"id2\"></a>\n",
    "---\n",
    "\n",
    "Un entorno de trabajo es la configuración de herramientas utilizadas por un programador para desarrollar, depurar y ejecutar su software. Es un conjunto de herramientas que facilitan el proceso de programación y ayudan a mejorar la productividad y eficiencia del desarrollador.\n",
    "\n",
    "\n",
    "### Ventajas de trabajar desde consola\n",
    "\n",
    "- Mayor control y rapidez: Al programar en consola, se tiene mayor control sobre el proceso de entrada y salida de datos.\n",
    "\n"
   ]
  },
  {
   "cell_type": "markdown",
   "metadata": {
    "slideshow": {
     "slide_type": "subslide"
    }
   },
   "source": [
    "- Eficiencia: Los programas de consola te permiten realizar una gran variedad de tareas, como manejo de archivos, lectura de datos y escritura de datos. Esto ayuda que el proceso de pruebas sea más eficiente.\n",
    "\n",
    "- Preparación para entrevistas técnicas: Muchas entrevistas técnicas para trabajos en programación se realizan en consola. Si estás familiarizado con la programación en consola, tendrás una ventaja al enfrentarte a estas entrevistas.\n",
    "\n",
    "\n",
    "**Nota:** Los instaladores que se presentan de java y c++ son para SO Linux/Ubuntu, en próximas versiones se añadiran los pasos para windows."
   ]
  },
  {
   "cell_type": "markdown",
   "metadata": {
    "slideshow": {
     "slide_type": "slide"
    }
   },
   "source": [
    "### Python<a name=\"id2.1\"></a>\n",
    "---\n",
    "- Instalar Python, Anaconda o Miniconda (se maneja por consola).  \n",
    "    ```Python:``` [Python 3.11.2](https://www.python.org/downloads/release/python-3110/)  \n",
    "    ```Anaconda/Miniconda:``` [Python 3.10](https://docs.conda.io/projects/conda/en/latest/user-guide/install/linux.html)\n",
    "    \n",
    "- Comando para correr archivos en consola:  \n",
    "    ```python script_name.py```\n",
    "\n",
    "- Comando para pasarle un .txt como entrada.  \n",
    "    ```python script_name.py < input.txt```\n",
    "\n",
    "- Comando para pasarle un txt como entrada y escribir en un .txt la salida.  \n",
    "    ```python script_name.py < input.txt > output.txt```"
   ]
  },
  {
   "cell_type": "markdown",
   "metadata": {
    "slideshow": {
     "slide_type": "slide"
    }
   },
   "source": [
    "### Java<a name=\"id2.2\"></a>\n",
    "---\n",
    "- Instalar JDK de java y configurar las variables de entorno para poder usarlo desde consola.  \n",
    "    ```Como Instalar JDK Java en linux:``` [Sitio Web](https://www.theserverside.com/blog/Coffee-Talk-Java-News-Stories-and-Opinions/How-do-I-install-Java-on-Ubuntu)\n",
    "\n",
    "- Compilar el archivo .java con el código.  \n",
    "    ```javac script_name.java```\n",
    "\n",
    "- Ejecutar el código.\n",
    "    ```java script_name```\n"
   ]
  },
  {
   "cell_type": "markdown",
   "metadata": {
    "slideshow": {
     "slide_type": "subslide"
    }
   },
   "source": [
    "- Comando para pasarle un .txt como entrada:  \n",
    "    ```java script_name < input.txt```\n",
    "\n",
    "- Comando para pasarle un txt como entrada y escribir en un .txt la salida:  \n",
    "    ```java script_name < input.txt > output.txt```\n"
   ]
  },
  {
   "cell_type": "markdown",
   "metadata": {
    "slideshow": {
     "slide_type": "slide"
    }
   },
   "source": [
    "### C++<a name=\"id2.3\"></a>\n",
    "---\n",
    "- Instalar compilador mingw.  \n",
    "    ```Windows: ``` [Tutorial - Instalador](https://www.youtube.com/watch?v=TpaOVCjBAI8&ab_channel=Programaci%C3%B3nDesdeCero)  \n",
    "    ```Linux: ``` [Bash](https://howtoinstall.co/en/mingw-w64)\n",
    "    \n",
    "- Compilar el archivo .cpp con el código.  \n",
    "    ```g++ script_name.cpp -o script_executable.exe``` (-o -> output)\n",
    "\n",
    "- Ejecutar el código.  \n",
    "    ```./ script_executable.exe```\n"
   ]
  },
  {
   "cell_type": "markdown",
   "metadata": {
    "slideshow": {
     "slide_type": "subslide"
    }
   },
   "source": [
    "\n",
    "- Comando para pasarle un .txt como entrada.  \n",
    "    ```./ script_executable.exe < input.txt```\n",
    "\n",
    "- Comando para pasarle un txt como entrada y escribir en un .txt la salida.  \n",
    "    ```./ script_executable.exe < input.txt > output.txt```\n",
    "    \n",
    "- Obtener el valor del return del main().  \n",
    "    ```Linux: echo $?```  \n",
    "    ```Windows: echo %ERRORLEVEL%```"
   ]
  },
  {
   "cell_type": "markdown",
   "metadata": {
    "slideshow": {
     "slide_type": "slide"
    }
   },
   "source": [
    "## Entradas<a name=\"id3\"></a>\n",
    "---"
   ]
  },
  {
   "cell_type": "markdown",
   "metadata": {
    "slideshow": {
     "slide_type": "fragment"
    }
   },
   "source": [
    "### Python<a name=\"id3.1\"></a>"
   ]
  },
  {
   "cell_type": "code",
   "execution_count": 19,
   "metadata": {
    "scrolled": true,
    "slideshow": {
     "slide_type": "subslide"
    }
   },
   "outputs": [
    {
     "data": {
      "text/html": [
       "<style>.output_html .hll { background-color: #ffffcc }\n",
       ".output_html  { background: #f8f8f8; }\n",
       ".output_html .c { color: #408080; font-style: italic } /* Comment */\n",
       ".output_html .err { border: 1px solid #FF0000 } /* Error */\n",
       ".output_html .k { color: #008000; font-weight: bold } /* Keyword */\n",
       ".output_html .o { color: #666666 } /* Operator */\n",
       ".output_html .ch { color: #408080; font-style: italic } /* Comment.Hashbang */\n",
       ".output_html .cm { color: #408080; font-style: italic } /* Comment.Multiline */\n",
       ".output_html .cp { color: #BC7A00 } /* Comment.Preproc */\n",
       ".output_html .cpf { color: #408080; font-style: italic } /* Comment.PreprocFile */\n",
       ".output_html .c1 { color: #408080; font-style: italic } /* Comment.Single */\n",
       ".output_html .cs { color: #408080; font-style: italic } /* Comment.Special */\n",
       ".output_html .gd { color: #A00000 } /* Generic.Deleted */\n",
       ".output_html .ge { font-style: italic } /* Generic.Emph */\n",
       ".output_html .gr { color: #FF0000 } /* Generic.Error */\n",
       ".output_html .gh { color: #000080; font-weight: bold } /* Generic.Heading */\n",
       ".output_html .gi { color: #00A000 } /* Generic.Inserted */\n",
       ".output_html .go { color: #888888 } /* Generic.Output */\n",
       ".output_html .gp { color: #000080; font-weight: bold } /* Generic.Prompt */\n",
       ".output_html .gs { font-weight: bold } /* Generic.Strong */\n",
       ".output_html .gu { color: #800080; font-weight: bold } /* Generic.Subheading */\n",
       ".output_html .gt { color: #0044DD } /* Generic.Traceback */\n",
       ".output_html .kc { color: #008000; font-weight: bold } /* Keyword.Constant */\n",
       ".output_html .kd { color: #008000; font-weight: bold } /* Keyword.Declaration */\n",
       ".output_html .kn { color: #008000; font-weight: bold } /* Keyword.Namespace */\n",
       ".output_html .kp { color: #008000 } /* Keyword.Pseudo */\n",
       ".output_html .kr { color: #008000; font-weight: bold } /* Keyword.Reserved */\n",
       ".output_html .kt { color: #B00040 } /* Keyword.Type */\n",
       ".output_html .m { color: #666666 } /* Literal.Number */\n",
       ".output_html .s { color: #BA2121 } /* Literal.String */\n",
       ".output_html .na { color: #7D9029 } /* Name.Attribute */\n",
       ".output_html .nb { color: #008000 } /* Name.Builtin */\n",
       ".output_html .nc { color: #0000FF; font-weight: bold } /* Name.Class */\n",
       ".output_html .no { color: #880000 } /* Name.Constant */\n",
       ".output_html .nd { color: #AA22FF } /* Name.Decorator */\n",
       ".output_html .ni { color: #999999; font-weight: bold } /* Name.Entity */\n",
       ".output_html .ne { color: #D2413A; font-weight: bold } /* Name.Exception */\n",
       ".output_html .nf { color: #0000FF } /* Name.Function */\n",
       ".output_html .nl { color: #A0A000 } /* Name.Label */\n",
       ".output_html .nn { color: #0000FF; font-weight: bold } /* Name.Namespace */\n",
       ".output_html .nt { color: #008000; font-weight: bold } /* Name.Tag */\n",
       ".output_html .nv { color: #19177C } /* Name.Variable */\n",
       ".output_html .ow { color: #AA22FF; font-weight: bold } /* Operator.Word */\n",
       ".output_html .w { color: #bbbbbb } /* Text.Whitespace */\n",
       ".output_html .mb { color: #666666 } /* Literal.Number.Bin */\n",
       ".output_html .mf { color: #666666 } /* Literal.Number.Float */\n",
       ".output_html .mh { color: #666666 } /* Literal.Number.Hex */\n",
       ".output_html .mi { color: #666666 } /* Literal.Number.Integer */\n",
       ".output_html .mo { color: #666666 } /* Literal.Number.Oct */\n",
       ".output_html .sa { color: #BA2121 } /* Literal.String.Affix */\n",
       ".output_html .sb { color: #BA2121 } /* Literal.String.Backtick */\n",
       ".output_html .sc { color: #BA2121 } /* Literal.String.Char */\n",
       ".output_html .dl { color: #BA2121 } /* Literal.String.Delimiter */\n",
       ".output_html .sd { color: #BA2121; font-style: italic } /* Literal.String.Doc */\n",
       ".output_html .s2 { color: #BA2121 } /* Literal.String.Double */\n",
       ".output_html .se { color: #BB6622; font-weight: bold } /* Literal.String.Escape */\n",
       ".output_html .sh { color: #BA2121 } /* Literal.String.Heredoc */\n",
       ".output_html .si { color: #BB6688; font-weight: bold } /* Literal.String.Interpol */\n",
       ".output_html .sx { color: #008000 } /* Literal.String.Other */\n",
       ".output_html .sr { color: #BB6688 } /* Literal.String.Regex */\n",
       ".output_html .s1 { color: #BA2121 } /* Literal.String.Single */\n",
       ".output_html .ss { color: #19177C } /* Literal.String.Symbol */\n",
       ".output_html .bp { color: #008000 } /* Name.Builtin.Pseudo */\n",
       ".output_html .fm { color: #0000FF } /* Name.Function.Magic */\n",
       ".output_html .vc { color: #19177C } /* Name.Variable.Class */\n",
       ".output_html .vg { color: #19177C } /* Name.Variable.Global */\n",
       ".output_html .vi { color: #19177C } /* Name.Variable.Instance */\n",
       ".output_html .vm { color: #19177C } /* Name.Variable.Magic */\n",
       ".output_html .il { color: #666666 } /* Literal.Number.Integer.Long */</style><div class=\"highlight\"><pre><span></span><span class=\"kn\">import</span> <span class=\"nn\">sys</span>\n",
       "\n",
       "<span class=\"k\">def</span> <span class=\"nf\">convert_list_str_to_int</span><span class=\"p\">(</span><span class=\"n\">_list</span><span class=\"p\">):</span>\n",
       "    <span class=\"k\">return</span> <span class=\"nb\">list</span><span class=\"p\">(</span><span class=\"nb\">map</span><span class=\"p\">(</span><span class=\"nb\">int</span><span class=\"p\">,</span> <span class=\"n\">_list</span><span class=\"p\">))</span>\n",
       "\n",
       "<span class=\"c1\"># It works with EOF inputs</span>\n",
       "<span class=\"k\">def</span> <span class=\"nf\">read_lines</span><span class=\"p\">():</span>\n",
       "    <span class=\"n\">_input</span> <span class=\"o\">=</span> <span class=\"n\">sys</span><span class=\"o\">.</span><span class=\"n\">stdin</span><span class=\"o\">.</span><span class=\"n\">readlines</span><span class=\"p\">()</span>\n",
       "    <span class=\"k\">return</span> <span class=\"n\">_input</span>\n",
       "\n",
       "<span class=\"k\">def</span> <span class=\"nf\">iterate_over_input</span><span class=\"p\">():</span>\n",
       "    <span class=\"n\">_input</span> <span class=\"o\">=</span> <span class=\"nb\">iter</span><span class=\"p\">(</span><span class=\"n\">read_lines</span><span class=\"p\">())</span>\n",
       "    <span class=\"n\">test_cases</span> <span class=\"o\">=</span> <span class=\"nb\">next</span><span class=\"p\">(</span><span class=\"n\">_input</span><span class=\"p\">)</span>\n",
       "\n",
       "    <span class=\"c1\"># for _ in range(len(test_cases)): Similar approach</span>\n",
       "    <span class=\"k\">for</span> <span class=\"n\">line</span> <span class=\"ow\">in</span> <span class=\"n\">_input</span><span class=\"p\">:</span>\n",
       "        <span class=\"n\">numb1</span><span class=\"p\">,</span> <span class=\"n\">numb2</span> <span class=\"o\">=</span> <span class=\"p\">(</span>\n",
       "            <span class=\"n\">line</span><span class=\"o\">.</span><span class=\"n\">strip</span><span class=\"p\">(</span><span class=\"s1\">&#39;</span><span class=\"se\">\\n</span><span class=\"s1\">&#39;</span><span class=\"p\">)</span>  <span class=\"c1\"># Remove leading whitespace/characters</span>\n",
       "                <span class=\"o\">.</span><span class=\"n\">split</span><span class=\"p\">(</span><span class=\"s1\">&#39; &#39;</span><span class=\"p\">))</span>  <span class=\"c1\"># Split the string each time it founds the specify character: [.,_- ...]</span>\n",
       "        <span class=\"k\">print</span><span class=\"p\">(</span><span class=\"n\">numb1</span><span class=\"p\">,</span> <span class=\"n\">numb2</span><span class=\"p\">)</span>\n",
       "\n",
       "<span class=\"n\">_numerical_list</span> <span class=\"o\">=</span> <span class=\"p\">[</span><span class=\"s2\">&quot;1&quot;</span><span class=\"p\">,</span> <span class=\"s2\">&quot;2&quot;</span><span class=\"p\">,</span> <span class=\"s2\">&quot;3&quot;</span><span class=\"p\">,</span> <span class=\"s2\">&quot;4&quot;</span><span class=\"p\">]</span>\n",
       "<span class=\"k\">print</span><span class=\"p\">(</span><span class=\"n\">convert_list_str_to_int</span><span class=\"p\">(</span><span class=\"n\">_numerical_list</span><span class=\"p\">))</span>\n",
       "<span class=\"c1\"># Out:</span>\n",
       "<span class=\"c1\"># [1, 2, 3, 4]</span>\n",
       "\n",
       "<span class=\"c1\"># print(read_lines())</span>\n",
       "<span class=\"c1\"># In:</span>\n",
       "<span class=\"c1\"># 3</span>\n",
       "<span class=\"c1\"># 1 2</span>\n",
       "<span class=\"c1\"># 5 7</span>\n",
       "<span class=\"c1\"># 6 3</span>\n",
       "\n",
       "<span class=\"c1\"># Out:</span>\n",
       "<span class=\"c1\"># [&#39;3\\n&#39;, &#39;1 2\\n&#39;, &#39;5 7\\n&#39;, &#39;6 3\\n&#39;]</span>\n",
       "\n",
       "<span class=\"n\">iterate_over_input</span><span class=\"p\">()</span>\n",
       "<span class=\"c1\"># In:</span>\n",
       "<span class=\"c1\"># 3</span>\n",
       "<span class=\"c1\"># 1 2</span>\n",
       "<span class=\"c1\"># 5 7</span>\n",
       "<span class=\"c1\"># 6 3</span>\n",
       "\n",
       "<span class=\"c1\"># Out:</span>\n",
       "<span class=\"c1\"># 3</span>\n",
       "<span class=\"c1\"># 1 2</span>\n",
       "<span class=\"c1\"># 5 7</span>\n",
       "<span class=\"c1\"># 6 3</span>\n",
       "</pre></div>\n"
      ],
      "text/latex": [
       "\\begin{Verbatim}[commandchars=\\\\\\{\\}]\n",
       "\\PY{k+kn}{import} \\PY{n+nn}{sys}\n",
       "\n",
       "\\PY{k}{def} \\PY{n+nf}{convert\\PYZus{}list\\PYZus{}str\\PYZus{}to\\PYZus{}int}\\PY{p}{(}\\PY{n}{\\PYZus{}list}\\PY{p}{)}\\PY{p}{:}\n",
       "    \\PY{k}{return} \\PY{n+nb}{list}\\PY{p}{(}\\PY{n+nb}{map}\\PY{p}{(}\\PY{n+nb}{int}\\PY{p}{,} \\PY{n}{\\PYZus{}list}\\PY{p}{)}\\PY{p}{)}\n",
       "\n",
       "\\PY{c+c1}{\\PYZsh{} It works with EOF inputs}\n",
       "\\PY{k}{def} \\PY{n+nf}{read\\PYZus{}lines}\\PY{p}{(}\\PY{p}{)}\\PY{p}{:}\n",
       "    \\PY{n}{\\PYZus{}input} \\PY{o}{=} \\PY{n}{sys}\\PY{o}{.}\\PY{n}{stdin}\\PY{o}{.}\\PY{n}{readlines}\\PY{p}{(}\\PY{p}{)}\n",
       "    \\PY{k}{return} \\PY{n}{\\PYZus{}input}\n",
       "\n",
       "\\PY{k}{def} \\PY{n+nf}{iterate\\PYZus{}over\\PYZus{}input}\\PY{p}{(}\\PY{p}{)}\\PY{p}{:}\n",
       "    \\PY{n}{\\PYZus{}input} \\PY{o}{=} \\PY{n+nb}{iter}\\PY{p}{(}\\PY{n}{read\\PYZus{}lines}\\PY{p}{(}\\PY{p}{)}\\PY{p}{)}\n",
       "    \\PY{n}{test\\PYZus{}cases} \\PY{o}{=} \\PY{n+nb}{next}\\PY{p}{(}\\PY{n}{\\PYZus{}input}\\PY{p}{)}\n",
       "\n",
       "    \\PY{c+c1}{\\PYZsh{} for \\PYZus{} in range(len(test\\PYZus{}cases)): Similar approach}\n",
       "    \\PY{k}{for} \\PY{n}{line} \\PY{o+ow}{in} \\PY{n}{\\PYZus{}input}\\PY{p}{:}\n",
       "        \\PY{n}{numb1}\\PY{p}{,} \\PY{n}{numb2} \\PY{o}{=} \\PY{p}{(}\n",
       "            \\PY{n}{line}\\PY{o}{.}\\PY{n}{strip}\\PY{p}{(}\\PY{l+s+s1}{\\PYZsq{}}\\PY{l+s+se}{\\PYZbs{}n}\\PY{l+s+s1}{\\PYZsq{}}\\PY{p}{)}  \\PY{c+c1}{\\PYZsh{} Remove leading whitespace/characters}\n",
       "                \\PY{o}{.}\\PY{n}{split}\\PY{p}{(}\\PY{l+s+s1}{\\PYZsq{}}\\PY{l+s+s1}{ }\\PY{l+s+s1}{\\PYZsq{}}\\PY{p}{)}\\PY{p}{)}  \\PY{c+c1}{\\PYZsh{} Split the string each time it founds the specify character: [.,\\PYZus{}\\PYZhy{} ...]}\n",
       "        \\PY{k}{print}\\PY{p}{(}\\PY{n}{numb1}\\PY{p}{,} \\PY{n}{numb2}\\PY{p}{)}\n",
       "\n",
       "\\PY{n}{\\PYZus{}numerical\\PYZus{}list} \\PY{o}{=} \\PY{p}{[}\\PY{l+s+s2}{\\PYZdq{}}\\PY{l+s+s2}{1}\\PY{l+s+s2}{\\PYZdq{}}\\PY{p}{,} \\PY{l+s+s2}{\\PYZdq{}}\\PY{l+s+s2}{2}\\PY{l+s+s2}{\\PYZdq{}}\\PY{p}{,} \\PY{l+s+s2}{\\PYZdq{}}\\PY{l+s+s2}{3}\\PY{l+s+s2}{\\PYZdq{}}\\PY{p}{,} \\PY{l+s+s2}{\\PYZdq{}}\\PY{l+s+s2}{4}\\PY{l+s+s2}{\\PYZdq{}}\\PY{p}{]}\n",
       "\\PY{k}{print}\\PY{p}{(}\\PY{n}{convert\\PYZus{}list\\PYZus{}str\\PYZus{}to\\PYZus{}int}\\PY{p}{(}\\PY{n}{\\PYZus{}numerical\\PYZus{}list}\\PY{p}{)}\\PY{p}{)}\n",
       "\\PY{c+c1}{\\PYZsh{} Out:}\n",
       "\\PY{c+c1}{\\PYZsh{} [1, 2, 3, 4]}\n",
       "\n",
       "\\PY{c+c1}{\\PYZsh{} print(read\\PYZus{}lines())}\n",
       "\\PY{c+c1}{\\PYZsh{} In:}\n",
       "\\PY{c+c1}{\\PYZsh{} 3}\n",
       "\\PY{c+c1}{\\PYZsh{} 1 2}\n",
       "\\PY{c+c1}{\\PYZsh{} 5 7}\n",
       "\\PY{c+c1}{\\PYZsh{} 6 3}\n",
       "\n",
       "\\PY{c+c1}{\\PYZsh{} Out:}\n",
       "\\PY{c+c1}{\\PYZsh{} [\\PYZsq{}3\\PYZbs{}n\\PYZsq{}, \\PYZsq{}1 2\\PYZbs{}n\\PYZsq{}, \\PYZsq{}5 7\\PYZbs{}n\\PYZsq{}, \\PYZsq{}6 3\\PYZbs{}n\\PYZsq{}]}\n",
       "\n",
       "\\PY{n}{iterate\\PYZus{}over\\PYZus{}input}\\PY{p}{(}\\PY{p}{)}\n",
       "\\PY{c+c1}{\\PYZsh{} In:}\n",
       "\\PY{c+c1}{\\PYZsh{} 3}\n",
       "\\PY{c+c1}{\\PYZsh{} 1 2}\n",
       "\\PY{c+c1}{\\PYZsh{} 5 7}\n",
       "\\PY{c+c1}{\\PYZsh{} 6 3}\n",
       "\n",
       "\\PY{c+c1}{\\PYZsh{} Out:}\n",
       "\\PY{c+c1}{\\PYZsh{} 3}\n",
       "\\PY{c+c1}{\\PYZsh{} 1 2}\n",
       "\\PY{c+c1}{\\PYZsh{} 5 7}\n",
       "\\PY{c+c1}{\\PYZsh{} 6 3}\n",
       "\\end{Verbatim}\n"
      ],
      "text/plain": [
       "import sys\n",
       "\n",
       "def convert_list_str_to_int(_list):\n",
       "    return list(map(int, _list))\n",
       "\n",
       "# It works with EOF inputs\n",
       "def read_lines():\n",
       "    _input = sys.stdin.readlines()\n",
       "    return _input\n",
       "\n",
       "def iterate_over_input():\n",
       "    _input = iter(read_lines())\n",
       "    test_cases = next(_input)\n",
       "\n",
       "    # for _ in range(len(test_cases)): Similar approach\n",
       "    for line in _input:\n",
       "        numb1, numb2 = (\n",
       "            line.strip('\\n')  # Remove leading whitespace/characters\n",
       "                .split(' '))  # Split the string each time it founds the specify character: [.,_- ...]\n",
       "        print(numb1, numb2)\n",
       "\n",
       "_numerical_list = [\"1\", \"2\", \"3\", \"4\"]\n",
       "print(convert_list_str_to_int(_numerical_list))\n",
       "# Out:\n",
       "# [1, 2, 3, 4]\n",
       "\n",
       "# print(read_lines())\n",
       "# In:\n",
       "# 3\n",
       "# 1 2\n",
       "# 5 7\n",
       "# 6 3\n",
       "\n",
       "# Out:\n",
       "# ['3\\n', '1 2\\n', '5 7\\n', '6 3\\n']\n",
       "\n",
       "iterate_over_input()\n",
       "# In:\n",
       "# 3\n",
       "# 1 2\n",
       "# 5 7\n",
       "# 6 3\n",
       "\n",
       "# Out:\n",
       "# 3\n",
       "# 1 2\n",
       "# 5 7\n",
       "# 6 3"
      ]
     },
     "execution_count": 19,
     "metadata": {},
     "output_type": "execute_result"
    }
   ],
   "source": [
    "IPython.display.Code(\"entradas/python/funciones_python.py\")"
   ]
  },
  {
   "cell_type": "markdown",
   "metadata": {
    "slideshow": {
     "slide_type": "slide"
    }
   },
   "source": [
    "### Java<a name=\"id3.2\"></a>"
   ]
  },
  {
   "cell_type": "code",
   "execution_count": 20,
   "metadata": {
    "scrolled": true,
    "slideshow": {
     "slide_type": "subslide"
    }
   },
   "outputs": [
    {
     "data": {
      "text/html": [
       "<style>.output_html .hll { background-color: #ffffcc }\n",
       ".output_html  { background: #f8f8f8; }\n",
       ".output_html .c { color: #408080; font-style: italic } /* Comment */\n",
       ".output_html .err { border: 1px solid #FF0000 } /* Error */\n",
       ".output_html .k { color: #008000; font-weight: bold } /* Keyword */\n",
       ".output_html .o { color: #666666 } /* Operator */\n",
       ".output_html .ch { color: #408080; font-style: italic } /* Comment.Hashbang */\n",
       ".output_html .cm { color: #408080; font-style: italic } /* Comment.Multiline */\n",
       ".output_html .cp { color: #BC7A00 } /* Comment.Preproc */\n",
       ".output_html .cpf { color: #408080; font-style: italic } /* Comment.PreprocFile */\n",
       ".output_html .c1 { color: #408080; font-style: italic } /* Comment.Single */\n",
       ".output_html .cs { color: #408080; font-style: italic } /* Comment.Special */\n",
       ".output_html .gd { color: #A00000 } /* Generic.Deleted */\n",
       ".output_html .ge { font-style: italic } /* Generic.Emph */\n",
       ".output_html .gr { color: #FF0000 } /* Generic.Error */\n",
       ".output_html .gh { color: #000080; font-weight: bold } /* Generic.Heading */\n",
       ".output_html .gi { color: #00A000 } /* Generic.Inserted */\n",
       ".output_html .go { color: #888888 } /* Generic.Output */\n",
       ".output_html .gp { color: #000080; font-weight: bold } /* Generic.Prompt */\n",
       ".output_html .gs { font-weight: bold } /* Generic.Strong */\n",
       ".output_html .gu { color: #800080; font-weight: bold } /* Generic.Subheading */\n",
       ".output_html .gt { color: #0044DD } /* Generic.Traceback */\n",
       ".output_html .kc { color: #008000; font-weight: bold } /* Keyword.Constant */\n",
       ".output_html .kd { color: #008000; font-weight: bold } /* Keyword.Declaration */\n",
       ".output_html .kn { color: #008000; font-weight: bold } /* Keyword.Namespace */\n",
       ".output_html .kp { color: #008000 } /* Keyword.Pseudo */\n",
       ".output_html .kr { color: #008000; font-weight: bold } /* Keyword.Reserved */\n",
       ".output_html .kt { color: #B00040 } /* Keyword.Type */\n",
       ".output_html .m { color: #666666 } /* Literal.Number */\n",
       ".output_html .s { color: #BA2121 } /* Literal.String */\n",
       ".output_html .na { color: #7D9029 } /* Name.Attribute */\n",
       ".output_html .nb { color: #008000 } /* Name.Builtin */\n",
       ".output_html .nc { color: #0000FF; font-weight: bold } /* Name.Class */\n",
       ".output_html .no { color: #880000 } /* Name.Constant */\n",
       ".output_html .nd { color: #AA22FF } /* Name.Decorator */\n",
       ".output_html .ni { color: #999999; font-weight: bold } /* Name.Entity */\n",
       ".output_html .ne { color: #D2413A; font-weight: bold } /* Name.Exception */\n",
       ".output_html .nf { color: #0000FF } /* Name.Function */\n",
       ".output_html .nl { color: #A0A000 } /* Name.Label */\n",
       ".output_html .nn { color: #0000FF; font-weight: bold } /* Name.Namespace */\n",
       ".output_html .nt { color: #008000; font-weight: bold } /* Name.Tag */\n",
       ".output_html .nv { color: #19177C } /* Name.Variable */\n",
       ".output_html .ow { color: #AA22FF; font-weight: bold } /* Operator.Word */\n",
       ".output_html .w { color: #bbbbbb } /* Text.Whitespace */\n",
       ".output_html .mb { color: #666666 } /* Literal.Number.Bin */\n",
       ".output_html .mf { color: #666666 } /* Literal.Number.Float */\n",
       ".output_html .mh { color: #666666 } /* Literal.Number.Hex */\n",
       ".output_html .mi { color: #666666 } /* Literal.Number.Integer */\n",
       ".output_html .mo { color: #666666 } /* Literal.Number.Oct */\n",
       ".output_html .sa { color: #BA2121 } /* Literal.String.Affix */\n",
       ".output_html .sb { color: #BA2121 } /* Literal.String.Backtick */\n",
       ".output_html .sc { color: #BA2121 } /* Literal.String.Char */\n",
       ".output_html .dl { color: #BA2121 } /* Literal.String.Delimiter */\n",
       ".output_html .sd { color: #BA2121; font-style: italic } /* Literal.String.Doc */\n",
       ".output_html .s2 { color: #BA2121 } /* Literal.String.Double */\n",
       ".output_html .se { color: #BB6622; font-weight: bold } /* Literal.String.Escape */\n",
       ".output_html .sh { color: #BA2121 } /* Literal.String.Heredoc */\n",
       ".output_html .si { color: #BB6688; font-weight: bold } /* Literal.String.Interpol */\n",
       ".output_html .sx { color: #008000 } /* Literal.String.Other */\n",
       ".output_html .sr { color: #BB6688 } /* Literal.String.Regex */\n",
       ".output_html .s1 { color: #BA2121 } /* Literal.String.Single */\n",
       ".output_html .ss { color: #19177C } /* Literal.String.Symbol */\n",
       ".output_html .bp { color: #008000 } /* Name.Builtin.Pseudo */\n",
       ".output_html .fm { color: #0000FF } /* Name.Function.Magic */\n",
       ".output_html .vc { color: #19177C } /* Name.Variable.Class */\n",
       ".output_html .vg { color: #19177C } /* Name.Variable.Global */\n",
       ".output_html .vi { color: #19177C } /* Name.Variable.Instance */\n",
       ".output_html .vm { color: #19177C } /* Name.Variable.Magic */\n",
       ".output_html .il { color: #666666 } /* Literal.Number.Integer.Long */</style><div class=\"highlight\"><pre><span></span><span class=\"kn\">import</span> <span class=\"nn\">java.util.*</span><span class=\"o\">;</span>\n",
       "<span class=\"kn\">import</span> <span class=\"nn\">java.io.*</span><span class=\"o\">;</span>\n",
       "\n",
       "<span class=\"kd\">class</span> <span class=\"nc\">Cases</span> <span class=\"o\">{</span>\n",
       "    <span class=\"kd\">public</span> <span class=\"kd\">static</span> <span class=\"kt\">void</span> <span class=\"nf\">main</span><span class=\"o\">(</span><span class=\"n\">String</span><span class=\"o\">[]</span> <span class=\"n\">args</span><span class=\"o\">)</span> <span class=\"o\">{</span>\n",
       "\n",
       "    <span class=\"c1\">// Scanner sc = new Scanner(new File(&quot;IO_in1.txt&quot;)); // lee el archivo especificado</span>\n",
       "    <span class=\"n\">Scanner</span> <span class=\"n\">sc</span> <span class=\"o\">=</span> <span class=\"k\">new</span> <span class=\"n\">Scanner</span><span class=\"o\">(</span><span class=\"n\">System</span><span class=\"o\">.</span><span class=\"na\">in</span><span class=\"o\">);</span>\n",
       "\n",
       "    <span class=\"kt\">int</span> <span class=\"n\">test_cases</span> <span class=\"o\">=</span> <span class=\"n\">Integer</span><span class=\"o\">.</span><span class=\"na\">parseInt</span><span class=\"o\">(</span><span class=\"n\">sc</span><span class=\"o\">.</span><span class=\"na\">nextLine</span><span class=\"o\">());</span>\n",
       "    <span class=\"k\">while</span> <span class=\"o\">(</span><span class=\"n\">test_cases</span><span class=\"o\">--</span> <span class=\"o\">&gt;</span> <span class=\"mi\">0</span><span class=\"o\">)</span> <span class=\"o\">{</span> <span class=\"c1\">// seguir leyendo líneas mientras se acaban los casos</span>\n",
       "        <span class=\"n\">String</span><span class=\"o\">[]</span> <span class=\"n\">token</span> <span class=\"o\">=</span> <span class=\"n\">sc</span><span class=\"o\">.</span><span class=\"na\">nextLine</span><span class=\"o\">().</span><span class=\"na\">split</span><span class=\"o\">(</span><span class=\"s\">&quot; &quot;</span><span class=\"o\">);</span>\n",
       "        <span class=\"kt\">int</span> <span class=\"n\">ans</span> <span class=\"o\">=</span> <span class=\"mi\">0</span><span class=\"o\">;</span>\n",
       "\n",
       "        <span class=\"k\">for</span> <span class=\"o\">(</span><span class=\"kt\">int</span> <span class=\"n\">i</span> <span class=\"o\">=</span> <span class=\"mi\">0</span><span class=\"o\">;</span> <span class=\"n\">i</span> <span class=\"o\">&lt;</span> <span class=\"n\">token</span><span class=\"o\">.</span><span class=\"na\">length</span><span class=\"o\">;</span> <span class=\"o\">++</span><span class=\"n\">i</span><span class=\"o\">)</span>\n",
       "            <span class=\"n\">ans</span> <span class=\"o\">+=</span> <span class=\"n\">Integer</span><span class=\"o\">.</span><span class=\"na\">parseInt</span><span class=\"o\">(</span><span class=\"n\">token</span><span class=\"o\">[</span><span class=\"n\">i</span><span class=\"o\">]);</span>\n",
       "\n",
       "        <span class=\"n\">System</span><span class=\"o\">.</span><span class=\"na\">out</span><span class=\"o\">.</span><span class=\"na\">println</span><span class=\"o\">(</span><span class=\"n\">ans</span><span class=\"o\">);</span>\n",
       "        <span class=\"o\">}</span>\n",
       "    <span class=\"o\">}</span>\n",
       "<span class=\"o\">}</span>\n",
       "</pre></div>\n"
      ],
      "text/latex": [
       "\\begin{Verbatim}[commandchars=\\\\\\{\\}]\n",
       "\\PY{k+kn}{import} \\PY{n+nn}{java.util.*}\\PY{o}{;}\n",
       "\\PY{k+kn}{import} \\PY{n+nn}{java.io.*}\\PY{o}{;}\n",
       "\n",
       "\\PY{k+kd}{class} \\PY{n+nc}{Cases} \\PY{o}{\\PYZob{}}\n",
       "    \\PY{k+kd}{public} \\PY{k+kd}{static} \\PY{k+kt}{void} \\PY{n+nf}{main}\\PY{o}{(}\\PY{n}{String}\\PY{o}{[}\\PY{o}{]} \\PY{n}{args}\\PY{o}{)} \\PY{o}{\\PYZob{}}\n",
       "\n",
       "    \\PY{c+c1}{// Scanner sc = new Scanner(new File(\\PYZdq{}IO\\PYZus{}in1.txt\\PYZdq{})); // lee el archivo especificado}\n",
       "    \\PY{n}{Scanner} \\PY{n}{sc} \\PY{o}{=} \\PY{k}{new} \\PY{n}{Scanner}\\PY{o}{(}\\PY{n}{System}\\PY{o}{.}\\PY{n+na}{in}\\PY{o}{)}\\PY{o}{;}\n",
       "\n",
       "    \\PY{k+kt}{int} \\PY{n}{test\\PYZus{}cases} \\PY{o}{=} \\PY{n}{Integer}\\PY{o}{.}\\PY{n+na}{parseInt}\\PY{o}{(}\\PY{n}{sc}\\PY{o}{.}\\PY{n+na}{nextLine}\\PY{o}{(}\\PY{o}{)}\\PY{o}{)}\\PY{o}{;}\n",
       "    \\PY{k}{while} \\PY{o}{(}\\PY{n}{test\\PYZus{}cases}\\PY{o}{\\PYZhy{}}\\PY{o}{\\PYZhy{}} \\PY{o}{\\PYZgt{}} \\PY{l+m+mi}{0}\\PY{o}{)} \\PY{o}{\\PYZob{}} \\PY{c+c1}{// seguir leyendo líneas mientras se acaban los casos}\n",
       "        \\PY{n}{String}\\PY{o}{[}\\PY{o}{]} \\PY{n}{token} \\PY{o}{=} \\PY{n}{sc}\\PY{o}{.}\\PY{n+na}{nextLine}\\PY{o}{(}\\PY{o}{)}\\PY{o}{.}\\PY{n+na}{split}\\PY{o}{(}\\PY{l+s}{\\PYZdq{} \\PYZdq{}}\\PY{o}{)}\\PY{o}{;}\n",
       "        \\PY{k+kt}{int} \\PY{n}{ans} \\PY{o}{=} \\PY{l+m+mi}{0}\\PY{o}{;}\n",
       "\n",
       "        \\PY{k}{for} \\PY{o}{(}\\PY{k+kt}{int} \\PY{n}{i} \\PY{o}{=} \\PY{l+m+mi}{0}\\PY{o}{;} \\PY{n}{i} \\PY{o}{\\PYZlt{}} \\PY{n}{token}\\PY{o}{.}\\PY{n+na}{length}\\PY{o}{;} \\PY{o}{+}\\PY{o}{+}\\PY{n}{i}\\PY{o}{)}\n",
       "            \\PY{n}{ans} \\PY{o}{+}\\PY{o}{=} \\PY{n}{Integer}\\PY{o}{.}\\PY{n+na}{parseInt}\\PY{o}{(}\\PY{n}{token}\\PY{o}{[}\\PY{n}{i}\\PY{o}{]}\\PY{o}{)}\\PY{o}{;}\n",
       "\n",
       "        \\PY{n}{System}\\PY{o}{.}\\PY{n+na}{out}\\PY{o}{.}\\PY{n+na}{println}\\PY{o}{(}\\PY{n}{ans}\\PY{o}{)}\\PY{o}{;}\n",
       "        \\PY{o}{\\PYZcb{}}\n",
       "    \\PY{o}{\\PYZcb{}}\n",
       "\\PY{o}{\\PYZcb{}}\n",
       "\\end{Verbatim}\n"
      ],
      "text/plain": [
       "import java.util.*;\n",
       "import java.io.*;\n",
       "\n",
       "class Cases {\n",
       "    public static void main(String[] args) {\n",
       "\n",
       "    // Scanner sc = new Scanner(new File(\"IO_in1.txt\")); // lee el archivo especificado\n",
       "    Scanner sc = new Scanner(System.in);\n",
       "\n",
       "    int test_cases = Integer.parseInt(sc.nextLine());\n",
       "    while (test_cases-- > 0) { // seguir leyendo líneas mientras se acaban los casos\n",
       "        String[] token = sc.nextLine().split(\" \");\n",
       "        int ans = 0;\n",
       "\n",
       "        for (int i = 0; i < token.length; ++i)\n",
       "            ans += Integer.parseInt(token[i]);\n",
       "\n",
       "        System.out.println(ans);\n",
       "        }\n",
       "    }\n",
       "}"
      ]
     },
     "execution_count": 20,
     "metadata": {},
     "output_type": "execute_result"
    }
   ],
   "source": [
    "IPython.display.Code(\"entradas/java/n_cases.java\")"
   ]
  },
  {
   "cell_type": "code",
   "execution_count": 21,
   "metadata": {
    "scrolled": true,
    "slideshow": {
     "slide_type": "subslide"
    }
   },
   "outputs": [
    {
     "data": {
      "text/html": [
       "<style>.output_html .hll { background-color: #ffffcc }\n",
       ".output_html  { background: #f8f8f8; }\n",
       ".output_html .c { color: #408080; font-style: italic } /* Comment */\n",
       ".output_html .err { border: 1px solid #FF0000 } /* Error */\n",
       ".output_html .k { color: #008000; font-weight: bold } /* Keyword */\n",
       ".output_html .o { color: #666666 } /* Operator */\n",
       ".output_html .ch { color: #408080; font-style: italic } /* Comment.Hashbang */\n",
       ".output_html .cm { color: #408080; font-style: italic } /* Comment.Multiline */\n",
       ".output_html .cp { color: #BC7A00 } /* Comment.Preproc */\n",
       ".output_html .cpf { color: #408080; font-style: italic } /* Comment.PreprocFile */\n",
       ".output_html .c1 { color: #408080; font-style: italic } /* Comment.Single */\n",
       ".output_html .cs { color: #408080; font-style: italic } /* Comment.Special */\n",
       ".output_html .gd { color: #A00000 } /* Generic.Deleted */\n",
       ".output_html .ge { font-style: italic } /* Generic.Emph */\n",
       ".output_html .gr { color: #FF0000 } /* Generic.Error */\n",
       ".output_html .gh { color: #000080; font-weight: bold } /* Generic.Heading */\n",
       ".output_html .gi { color: #00A000 } /* Generic.Inserted */\n",
       ".output_html .go { color: #888888 } /* Generic.Output */\n",
       ".output_html .gp { color: #000080; font-weight: bold } /* Generic.Prompt */\n",
       ".output_html .gs { font-weight: bold } /* Generic.Strong */\n",
       ".output_html .gu { color: #800080; font-weight: bold } /* Generic.Subheading */\n",
       ".output_html .gt { color: #0044DD } /* Generic.Traceback */\n",
       ".output_html .kc { color: #008000; font-weight: bold } /* Keyword.Constant */\n",
       ".output_html .kd { color: #008000; font-weight: bold } /* Keyword.Declaration */\n",
       ".output_html .kn { color: #008000; font-weight: bold } /* Keyword.Namespace */\n",
       ".output_html .kp { color: #008000 } /* Keyword.Pseudo */\n",
       ".output_html .kr { color: #008000; font-weight: bold } /* Keyword.Reserved */\n",
       ".output_html .kt { color: #B00040 } /* Keyword.Type */\n",
       ".output_html .m { color: #666666 } /* Literal.Number */\n",
       ".output_html .s { color: #BA2121 } /* Literal.String */\n",
       ".output_html .na { color: #7D9029 } /* Name.Attribute */\n",
       ".output_html .nb { color: #008000 } /* Name.Builtin */\n",
       ".output_html .nc { color: #0000FF; font-weight: bold } /* Name.Class */\n",
       ".output_html .no { color: #880000 } /* Name.Constant */\n",
       ".output_html .nd { color: #AA22FF } /* Name.Decorator */\n",
       ".output_html .ni { color: #999999; font-weight: bold } /* Name.Entity */\n",
       ".output_html .ne { color: #D2413A; font-weight: bold } /* Name.Exception */\n",
       ".output_html .nf { color: #0000FF } /* Name.Function */\n",
       ".output_html .nl { color: #A0A000 } /* Name.Label */\n",
       ".output_html .nn { color: #0000FF; font-weight: bold } /* Name.Namespace */\n",
       ".output_html .nt { color: #008000; font-weight: bold } /* Name.Tag */\n",
       ".output_html .nv { color: #19177C } /* Name.Variable */\n",
       ".output_html .ow { color: #AA22FF; font-weight: bold } /* Operator.Word */\n",
       ".output_html .w { color: #bbbbbb } /* Text.Whitespace */\n",
       ".output_html .mb { color: #666666 } /* Literal.Number.Bin */\n",
       ".output_html .mf { color: #666666 } /* Literal.Number.Float */\n",
       ".output_html .mh { color: #666666 } /* Literal.Number.Hex */\n",
       ".output_html .mi { color: #666666 } /* Literal.Number.Integer */\n",
       ".output_html .mo { color: #666666 } /* Literal.Number.Oct */\n",
       ".output_html .sa { color: #BA2121 } /* Literal.String.Affix */\n",
       ".output_html .sb { color: #BA2121 } /* Literal.String.Backtick */\n",
       ".output_html .sc { color: #BA2121 } /* Literal.String.Char */\n",
       ".output_html .dl { color: #BA2121 } /* Literal.String.Delimiter */\n",
       ".output_html .sd { color: #BA2121; font-style: italic } /* Literal.String.Doc */\n",
       ".output_html .s2 { color: #BA2121 } /* Literal.String.Double */\n",
       ".output_html .se { color: #BB6622; font-weight: bold } /* Literal.String.Escape */\n",
       ".output_html .sh { color: #BA2121 } /* Literal.String.Heredoc */\n",
       ".output_html .si { color: #BB6688; font-weight: bold } /* Literal.String.Interpol */\n",
       ".output_html .sx { color: #008000 } /* Literal.String.Other */\n",
       ".output_html .sr { color: #BB6688 } /* Literal.String.Regex */\n",
       ".output_html .s1 { color: #BA2121 } /* Literal.String.Single */\n",
       ".output_html .ss { color: #19177C } /* Literal.String.Symbol */\n",
       ".output_html .bp { color: #008000 } /* Name.Builtin.Pseudo */\n",
       ".output_html .fm { color: #0000FF } /* Name.Function.Magic */\n",
       ".output_html .vc { color: #19177C } /* Name.Variable.Class */\n",
       ".output_html .vg { color: #19177C } /* Name.Variable.Global */\n",
       ".output_html .vi { color: #19177C } /* Name.Variable.Instance */\n",
       ".output_html .vm { color: #19177C } /* Name.Variable.Magic */\n",
       ".output_html .il { color: #666666 } /* Literal.Number.Integer.Long */</style><div class=\"highlight\"><pre><span></span><span class=\"kn\">import</span> <span class=\"nn\">java.util.*</span><span class=\"o\">;</span>\n",
       "<span class=\"kn\">import</span> <span class=\"nn\">java.io.*</span><span class=\"o\">;</span>\n",
       "\n",
       "<span class=\"kd\">class</span> <span class=\"nc\">EOF</span> <span class=\"o\">{</span>\n",
       "  <span class=\"kd\">public</span> <span class=\"kd\">static</span> <span class=\"kt\">void</span> <span class=\"nf\">main</span><span class=\"o\">(</span><span class=\"n\">String</span><span class=\"o\">[]</span> <span class=\"n\">args</span><span class=\"o\">)</span> <span class=\"kd\">throws</span> <span class=\"n\">Exception</span> <span class=\"o\">{</span>\n",
       "\n",
       "    <span class=\"c1\">// Scanner sc = new Scanner(new File(&quot;IO_in3.txt&quot;)); // lee el archivo especificado</span>\n",
       "    <span class=\"n\">Scanner</span> <span class=\"n\">sc</span> <span class=\"o\">=</span> <span class=\"k\">new</span> <span class=\"n\">Scanner</span><span class=\"o\">(</span><span class=\"n\">System</span><span class=\"o\">.</span><span class=\"na\">in</span><span class=\"o\">);</span>\n",
       "\n",
       "    <span class=\"kt\">int</span> <span class=\"n\">c</span> <span class=\"o\">=</span> <span class=\"mi\">0</span><span class=\"o\">;</span>\n",
       "    <span class=\"k\">while</span> <span class=\"o\">(</span><span class=\"n\">sc</span><span class=\"o\">.</span><span class=\"na\">hasNext</span><span class=\"o\">())</span> <span class=\"o\">{</span> <span class=\"c1\">// seguir leyendo líneas mientras haya más</span>\n",
       "        <span class=\"n\">String</span><span class=\"o\">[]</span> <span class=\"n\">token</span> <span class=\"o\">=</span> <span class=\"n\">sc</span><span class=\"o\">.</span><span class=\"na\">nextLine</span><span class=\"o\">().</span><span class=\"na\">split</span><span class=\"o\">(</span><span class=\"s\">&quot; &quot;</span><span class=\"o\">);</span>\n",
       "        <span class=\"kt\">int</span> <span class=\"n\">a</span> <span class=\"o\">=</span> <span class=\"n\">Integer</span><span class=\"o\">.</span><span class=\"na\">valueOf</span><span class=\"o\">(</span><span class=\"n\">token</span><span class=\"o\">[</span><span class=\"mi\">0</span><span class=\"o\">]),</span> <span class=\"n\">b</span> <span class=\"o\">=</span> <span class=\"n\">Integer</span><span class=\"o\">.</span><span class=\"na\">valueOf</span><span class=\"o\">(</span><span class=\"n\">token</span><span class=\"o\">[</span><span class=\"mi\">1</span><span class=\"o\">]);</span>\n",
       "        <span class=\"k\">if</span> <span class=\"o\">(</span><span class=\"n\">c</span> <span class=\"o\">&gt;</span> <span class=\"mi\">0</span><span class=\"o\">)</span> <span class=\"n\">System</span><span class=\"o\">.</span><span class=\"na\">out</span><span class=\"o\">.</span><span class=\"na\">println</span><span class=\"o\">();</span>\n",
       "        <span class=\"n\">System</span><span class=\"o\">.</span><span class=\"na\">out</span><span class=\"o\">.</span><span class=\"na\">printf</span><span class=\"o\">(</span><span class=\"s\">&quot;Case %d: %d\\n&quot;</span><span class=\"o\">,</span> <span class=\"o\">++</span><span class=\"n\">c</span><span class=\"o\">,</span> <span class=\"n\">a</span><span class=\"o\">+</span><span class=\"n\">b</span><span class=\"o\">);</span>\n",
       "    <span class=\"o\">}</span>\n",
       "    <span class=\"o\">}</span>\n",
       "<span class=\"o\">}</span>\n",
       "</pre></div>\n"
      ],
      "text/latex": [
       "\\begin{Verbatim}[commandchars=\\\\\\{\\}]\n",
       "\\PY{k+kn}{import} \\PY{n+nn}{java.util.*}\\PY{o}{;}\n",
       "\\PY{k+kn}{import} \\PY{n+nn}{java.io.*}\\PY{o}{;}\n",
       "\n",
       "\\PY{k+kd}{class} \\PY{n+nc}{EOF} \\PY{o}{\\PYZob{}}\n",
       "  \\PY{k+kd}{public} \\PY{k+kd}{static} \\PY{k+kt}{void} \\PY{n+nf}{main}\\PY{o}{(}\\PY{n}{String}\\PY{o}{[}\\PY{o}{]} \\PY{n}{args}\\PY{o}{)} \\PY{k+kd}{throws} \\PY{n}{Exception} \\PY{o}{\\PYZob{}}\n",
       "\n",
       "    \\PY{c+c1}{// Scanner sc = new Scanner(new File(\\PYZdq{}IO\\PYZus{}in3.txt\\PYZdq{})); // lee el archivo especificado}\n",
       "    \\PY{n}{Scanner} \\PY{n}{sc} \\PY{o}{=} \\PY{k}{new} \\PY{n}{Scanner}\\PY{o}{(}\\PY{n}{System}\\PY{o}{.}\\PY{n+na}{in}\\PY{o}{)}\\PY{o}{;}\n",
       "\n",
       "    \\PY{k+kt}{int} \\PY{n}{c} \\PY{o}{=} \\PY{l+m+mi}{0}\\PY{o}{;}\n",
       "    \\PY{k}{while} \\PY{o}{(}\\PY{n}{sc}\\PY{o}{.}\\PY{n+na}{hasNext}\\PY{o}{(}\\PY{o}{)}\\PY{o}{)} \\PY{o}{\\PYZob{}} \\PY{c+c1}{// seguir leyendo líneas mientras haya más}\n",
       "        \\PY{n}{String}\\PY{o}{[}\\PY{o}{]} \\PY{n}{token} \\PY{o}{=} \\PY{n}{sc}\\PY{o}{.}\\PY{n+na}{nextLine}\\PY{o}{(}\\PY{o}{)}\\PY{o}{.}\\PY{n+na}{split}\\PY{o}{(}\\PY{l+s}{\\PYZdq{} \\PYZdq{}}\\PY{o}{)}\\PY{o}{;}\n",
       "        \\PY{k+kt}{int} \\PY{n}{a} \\PY{o}{=} \\PY{n}{Integer}\\PY{o}{.}\\PY{n+na}{valueOf}\\PY{o}{(}\\PY{n}{token}\\PY{o}{[}\\PY{l+m+mi}{0}\\PY{o}{]}\\PY{o}{)}\\PY{o}{,} \\PY{n}{b} \\PY{o}{=} \\PY{n}{Integer}\\PY{o}{.}\\PY{n+na}{valueOf}\\PY{o}{(}\\PY{n}{token}\\PY{o}{[}\\PY{l+m+mi}{1}\\PY{o}{]}\\PY{o}{)}\\PY{o}{;}\n",
       "        \\PY{k}{if} \\PY{o}{(}\\PY{n}{c} \\PY{o}{\\PYZgt{}} \\PY{l+m+mi}{0}\\PY{o}{)} \\PY{n}{System}\\PY{o}{.}\\PY{n+na}{out}\\PY{o}{.}\\PY{n+na}{println}\\PY{o}{(}\\PY{o}{)}\\PY{o}{;}\n",
       "        \\PY{n}{System}\\PY{o}{.}\\PY{n+na}{out}\\PY{o}{.}\\PY{n+na}{printf}\\PY{o}{(}\\PY{l+s}{\\PYZdq{}Case \\PYZpc{}d: \\PYZpc{}d\\PYZbs{}n\\PYZdq{}}\\PY{o}{,} \\PY{o}{+}\\PY{o}{+}\\PY{n}{c}\\PY{o}{,} \\PY{n}{a}\\PY{o}{+}\\PY{n}{b}\\PY{o}{)}\\PY{o}{;}\n",
       "    \\PY{o}{\\PYZcb{}}\n",
       "    \\PY{o}{\\PYZcb{}}\n",
       "\\PY{o}{\\PYZcb{}}\n",
       "\\end{Verbatim}\n"
      ],
      "text/plain": [
       "import java.util.*;\n",
       "import java.io.*;\n",
       "\n",
       "class EOF {\n",
       "  public static void main(String[] args) throws Exception {\n",
       "\n",
       "    // Scanner sc = new Scanner(new File(\"IO_in3.txt\")); // lee el archivo especificado\n",
       "    Scanner sc = new Scanner(System.in);\n",
       "\n",
       "    int c = 0;\n",
       "    while (sc.hasNext()) { // seguir leyendo líneas mientras haya más\n",
       "        String[] token = sc.nextLine().split(\" \");\n",
       "        int a = Integer.valueOf(token[0]), b = Integer.valueOf(token[1]);\n",
       "        if (c > 0) System.out.println();\n",
       "        System.out.printf(\"Case %d: %d\\n\", ++c, a+b);\n",
       "    }\n",
       "    }\n",
       "}"
      ]
     },
     "execution_count": 21,
     "metadata": {},
     "output_type": "execute_result"
    }
   ],
   "source": [
    "IPython.display.Code(\"entradas/java/EOF.java\")"
   ]
  },
  {
   "cell_type": "markdown",
   "metadata": {
    "slideshow": {
     "slide_type": "slide"
    }
   },
   "source": [
    "### C++<a name=\"id3.3\"></a>"
   ]
  },
  {
   "cell_type": "code",
   "execution_count": 24,
   "metadata": {
    "scrolled": true,
    "slideshow": {
     "slide_type": "subslide"
    }
   },
   "outputs": [
    {
     "data": {
      "text/html": [
       "<style>.output_html .hll { background-color: #ffffcc }\n",
       ".output_html  { background: #f8f8f8; }\n",
       ".output_html .c { color: #408080; font-style: italic } /* Comment */\n",
       ".output_html .err { border: 1px solid #FF0000 } /* Error */\n",
       ".output_html .k { color: #008000; font-weight: bold } /* Keyword */\n",
       ".output_html .o { color: #666666 } /* Operator */\n",
       ".output_html .ch { color: #408080; font-style: italic } /* Comment.Hashbang */\n",
       ".output_html .cm { color: #408080; font-style: italic } /* Comment.Multiline */\n",
       ".output_html .cp { color: #BC7A00 } /* Comment.Preproc */\n",
       ".output_html .cpf { color: #408080; font-style: italic } /* Comment.PreprocFile */\n",
       ".output_html .c1 { color: #408080; font-style: italic } /* Comment.Single */\n",
       ".output_html .cs { color: #408080; font-style: italic } /* Comment.Special */\n",
       ".output_html .gd { color: #A00000 } /* Generic.Deleted */\n",
       ".output_html .ge { font-style: italic } /* Generic.Emph */\n",
       ".output_html .gr { color: #FF0000 } /* Generic.Error */\n",
       ".output_html .gh { color: #000080; font-weight: bold } /* Generic.Heading */\n",
       ".output_html .gi { color: #00A000 } /* Generic.Inserted */\n",
       ".output_html .go { color: #888888 } /* Generic.Output */\n",
       ".output_html .gp { color: #000080; font-weight: bold } /* Generic.Prompt */\n",
       ".output_html .gs { font-weight: bold } /* Generic.Strong */\n",
       ".output_html .gu { color: #800080; font-weight: bold } /* Generic.Subheading */\n",
       ".output_html .gt { color: #0044DD } /* Generic.Traceback */\n",
       ".output_html .kc { color: #008000; font-weight: bold } /* Keyword.Constant */\n",
       ".output_html .kd { color: #008000; font-weight: bold } /* Keyword.Declaration */\n",
       ".output_html .kn { color: #008000; font-weight: bold } /* Keyword.Namespace */\n",
       ".output_html .kp { color: #008000 } /* Keyword.Pseudo */\n",
       ".output_html .kr { color: #008000; font-weight: bold } /* Keyword.Reserved */\n",
       ".output_html .kt { color: #B00040 } /* Keyword.Type */\n",
       ".output_html .m { color: #666666 } /* Literal.Number */\n",
       ".output_html .s { color: #BA2121 } /* Literal.String */\n",
       ".output_html .na { color: #7D9029 } /* Name.Attribute */\n",
       ".output_html .nb { color: #008000 } /* Name.Builtin */\n",
       ".output_html .nc { color: #0000FF; font-weight: bold } /* Name.Class */\n",
       ".output_html .no { color: #880000 } /* Name.Constant */\n",
       ".output_html .nd { color: #AA22FF } /* Name.Decorator */\n",
       ".output_html .ni { color: #999999; font-weight: bold } /* Name.Entity */\n",
       ".output_html .ne { color: #D2413A; font-weight: bold } /* Name.Exception */\n",
       ".output_html .nf { color: #0000FF } /* Name.Function */\n",
       ".output_html .nl { color: #A0A000 } /* Name.Label */\n",
       ".output_html .nn { color: #0000FF; font-weight: bold } /* Name.Namespace */\n",
       ".output_html .nt { color: #008000; font-weight: bold } /* Name.Tag */\n",
       ".output_html .nv { color: #19177C } /* Name.Variable */\n",
       ".output_html .ow { color: #AA22FF; font-weight: bold } /* Operator.Word */\n",
       ".output_html .w { color: #bbbbbb } /* Text.Whitespace */\n",
       ".output_html .mb { color: #666666 } /* Literal.Number.Bin */\n",
       ".output_html .mf { color: #666666 } /* Literal.Number.Float */\n",
       ".output_html .mh { color: #666666 } /* Literal.Number.Hex */\n",
       ".output_html .mi { color: #666666 } /* Literal.Number.Integer */\n",
       ".output_html .mo { color: #666666 } /* Literal.Number.Oct */\n",
       ".output_html .sa { color: #BA2121 } /* Literal.String.Affix */\n",
       ".output_html .sb { color: #BA2121 } /* Literal.String.Backtick */\n",
       ".output_html .sc { color: #BA2121 } /* Literal.String.Char */\n",
       ".output_html .dl { color: #BA2121 } /* Literal.String.Delimiter */\n",
       ".output_html .sd { color: #BA2121; font-style: italic } /* Literal.String.Doc */\n",
       ".output_html .s2 { color: #BA2121 } /* Literal.String.Double */\n",
       ".output_html .se { color: #BB6622; font-weight: bold } /* Literal.String.Escape */\n",
       ".output_html .sh { color: #BA2121 } /* Literal.String.Heredoc */\n",
       ".output_html .si { color: #BB6688; font-weight: bold } /* Literal.String.Interpol */\n",
       ".output_html .sx { color: #008000 } /* Literal.String.Other */\n",
       ".output_html .sr { color: #BB6688 } /* Literal.String.Regex */\n",
       ".output_html .s1 { color: #BA2121 } /* Literal.String.Single */\n",
       ".output_html .ss { color: #19177C } /* Literal.String.Symbol */\n",
       ".output_html .bp { color: #008000 } /* Name.Builtin.Pseudo */\n",
       ".output_html .fm { color: #0000FF } /* Name.Function.Magic */\n",
       ".output_html .vc { color: #19177C } /* Name.Variable.Class */\n",
       ".output_html .vg { color: #19177C } /* Name.Variable.Global */\n",
       ".output_html .vi { color: #19177C } /* Name.Variable.Instance */\n",
       ".output_html .vm { color: #19177C } /* Name.Variable.Magic */\n",
       ".output_html .il { color: #666666 } /* Literal.Number.Integer.Long */</style><div class=\"highlight\"><pre><span></span><span class=\"cp\">#include</span> <span class=\"cpf\">&lt;bits/stdc++.h&gt;</span><span class=\"cp\"></span>\n",
       "<span class=\"k\">using</span> <span class=\"k\">namespace</span> <span class=\"n\">std</span><span class=\"p\">;</span>\n",
       "\n",
       "<span class=\"kt\">int</span> <span class=\"nf\">main</span><span class=\"p\">()</span> <span class=\"p\">{</span>\n",
       "    <span class=\"kt\">int</span> <span class=\"n\">a</span><span class=\"p\">,</span> <span class=\"n\">b</span><span class=\"p\">;</span>\n",
       "    <span class=\"kt\">int</span> <span class=\"n\">num_test_cases</span><span class=\"p\">;</span>\n",
       "\n",
       "  <span class=\"c1\">// leer el número de casos de prueba desde la entrada estándar</span>\n",
       "    <span class=\"n\">scanf</span><span class=\"p\">(</span><span class=\"s\">&quot;%d&quot;</span><span class=\"p\">,</span> <span class=\"o\">&amp;</span><span class=\"n\">num_test_cases</span><span class=\"p\">);</span>\n",
       "\n",
       "    <span class=\"c1\">// ejecutar cada caso de prueba uno por uno</span>\n",
       "    <span class=\"k\">while</span> <span class=\"p\">(</span><span class=\"n\">num_test_cases</span><span class=\"o\">--</span><span class=\"p\">)</span> <span class=\"p\">{</span>\n",
       "        <span class=\"n\">scanf</span><span class=\"p\">(</span><span class=\"s\">&quot;%d %d&quot;</span><span class=\"p\">,</span> <span class=\"o\">&amp;</span><span class=\"n\">a</span><span class=\"p\">,</span> <span class=\"o\">&amp;</span><span class=\"n\">b</span><span class=\"p\">);</span>\n",
       "        <span class=\"n\">printf</span><span class=\"p\">(</span><span class=\"s\">&quot;%d</span><span class=\"se\">\\n</span><span class=\"s\">&quot;</span><span class=\"p\">,</span> <span class=\"n\">a</span> <span class=\"o\">+</span> <span class=\"n\">b</span><span class=\"p\">);</span>\n",
       "    <span class=\"p\">}</span>\n",
       "\n",
       "    <span class=\"k\">return</span> <span class=\"mi\">0</span><span class=\"p\">;</span>\n",
       "<span class=\"p\">}</span>\n",
       "</pre></div>\n"
      ],
      "text/latex": [
       "\\begin{Verbatim}[commandchars=\\\\\\{\\}]\n",
       "\\PY{c+cp}{\\PYZsh{}}\\PY{c+cp}{include} \\PY{c+cpf}{\\PYZlt{}bits/stdc++.h\\PYZgt{}}\n",
       "\\PY{k}{using} \\PY{k}{namespace} \\PY{n}{std}\\PY{p}{;}\n",
       "\n",
       "\\PY{k+kt}{int} \\PY{n+nf}{main}\\PY{p}{(}\\PY{p}{)} \\PY{p}{\\PYZob{}}\n",
       "    \\PY{k+kt}{int} \\PY{n}{a}\\PY{p}{,} \\PY{n}{b}\\PY{p}{;}\n",
       "    \\PY{k+kt}{int} \\PY{n}{num\\PYZus{}test\\PYZus{}cases}\\PY{p}{;}\n",
       "\n",
       "  \\PY{c+c1}{// leer el número de casos de prueba desde la entrada estándar}\n",
       "    \\PY{n}{scanf}\\PY{p}{(}\\PY{l+s}{\\PYZdq{}}\\PY{l+s}{\\PYZpc{}d}\\PY{l+s}{\\PYZdq{}}\\PY{p}{,} \\PY{o}{\\PYZam{}}\\PY{n}{num\\PYZus{}test\\PYZus{}cases}\\PY{p}{)}\\PY{p}{;}\n",
       "\n",
       "    \\PY{c+c1}{// ejecutar cada caso de prueba uno por uno}\n",
       "    \\PY{k}{while} \\PY{p}{(}\\PY{n}{num\\PYZus{}test\\PYZus{}cases}\\PY{o}{\\PYZhy{}}\\PY{o}{\\PYZhy{}}\\PY{p}{)} \\PY{p}{\\PYZob{}}\n",
       "        \\PY{n}{scanf}\\PY{p}{(}\\PY{l+s}{\\PYZdq{}}\\PY{l+s}{\\PYZpc{}d \\PYZpc{}d}\\PY{l+s}{\\PYZdq{}}\\PY{p}{,} \\PY{o}{\\PYZam{}}\\PY{n}{a}\\PY{p}{,} \\PY{o}{\\PYZam{}}\\PY{n}{b}\\PY{p}{)}\\PY{p}{;}\n",
       "        \\PY{n}{printf}\\PY{p}{(}\\PY{l+s}{\\PYZdq{}}\\PY{l+s}{\\PYZpc{}d}\\PY{l+s+se}{\\PYZbs{}n}\\PY{l+s}{\\PYZdq{}}\\PY{p}{,} \\PY{n}{a} \\PY{o}{+} \\PY{n}{b}\\PY{p}{)}\\PY{p}{;}\n",
       "    \\PY{p}{\\PYZcb{}}\n",
       "\n",
       "    \\PY{k}{return} \\PY{l+m+mi}{0}\\PY{p}{;}\n",
       "\\PY{p}{\\PYZcb{}}\n",
       "\\end{Verbatim}\n"
      ],
      "text/plain": [
       "#include <bits/stdc++.h>\n",
       "using namespace std;\n",
       "\n",
       "int main() {\n",
       "    int a, b;\n",
       "    int num_test_cases;\n",
       "\n",
       "  // leer el número de casos de prueba desde la entrada estándar\n",
       "    scanf(\"%d\", &num_test_cases);\n",
       "\n",
       "    // ejecutar cada caso de prueba uno por uno\n",
       "    while (num_test_cases--) {\n",
       "        scanf(\"%d %d\", &a, &b);\n",
       "        printf(\"%d\\n\", a + b);\n",
       "    }\n",
       "\n",
       "    return 0;\n",
       "}"
      ]
     },
     "execution_count": 24,
     "metadata": {},
     "output_type": "execute_result"
    }
   ],
   "source": [
    "IPython.display.Code(\"entradas/c++/n_casos.cpp\")"
   ]
  },
  {
   "cell_type": "code",
   "execution_count": 23,
   "metadata": {
    "scrolled": true,
    "slideshow": {
     "slide_type": "subslide"
    }
   },
   "outputs": [
    {
     "data": {
      "text/html": [
       "<style>.output_html .hll { background-color: #ffffcc }\n",
       ".output_html  { background: #f8f8f8; }\n",
       ".output_html .c { color: #408080; font-style: italic } /* Comment */\n",
       ".output_html .err { border: 1px solid #FF0000 } /* Error */\n",
       ".output_html .k { color: #008000; font-weight: bold } /* Keyword */\n",
       ".output_html .o { color: #666666 } /* Operator */\n",
       ".output_html .ch { color: #408080; font-style: italic } /* Comment.Hashbang */\n",
       ".output_html .cm { color: #408080; font-style: italic } /* Comment.Multiline */\n",
       ".output_html .cp { color: #BC7A00 } /* Comment.Preproc */\n",
       ".output_html .cpf { color: #408080; font-style: italic } /* Comment.PreprocFile */\n",
       ".output_html .c1 { color: #408080; font-style: italic } /* Comment.Single */\n",
       ".output_html .cs { color: #408080; font-style: italic } /* Comment.Special */\n",
       ".output_html .gd { color: #A00000 } /* Generic.Deleted */\n",
       ".output_html .ge { font-style: italic } /* Generic.Emph */\n",
       ".output_html .gr { color: #FF0000 } /* Generic.Error */\n",
       ".output_html .gh { color: #000080; font-weight: bold } /* Generic.Heading */\n",
       ".output_html .gi { color: #00A000 } /* Generic.Inserted */\n",
       ".output_html .go { color: #888888 } /* Generic.Output */\n",
       ".output_html .gp { color: #000080; font-weight: bold } /* Generic.Prompt */\n",
       ".output_html .gs { font-weight: bold } /* Generic.Strong */\n",
       ".output_html .gu { color: #800080; font-weight: bold } /* Generic.Subheading */\n",
       ".output_html .gt { color: #0044DD } /* Generic.Traceback */\n",
       ".output_html .kc { color: #008000; font-weight: bold } /* Keyword.Constant */\n",
       ".output_html .kd { color: #008000; font-weight: bold } /* Keyword.Declaration */\n",
       ".output_html .kn { color: #008000; font-weight: bold } /* Keyword.Namespace */\n",
       ".output_html .kp { color: #008000 } /* Keyword.Pseudo */\n",
       ".output_html .kr { color: #008000; font-weight: bold } /* Keyword.Reserved */\n",
       ".output_html .kt { color: #B00040 } /* Keyword.Type */\n",
       ".output_html .m { color: #666666 } /* Literal.Number */\n",
       ".output_html .s { color: #BA2121 } /* Literal.String */\n",
       ".output_html .na { color: #7D9029 } /* Name.Attribute */\n",
       ".output_html .nb { color: #008000 } /* Name.Builtin */\n",
       ".output_html .nc { color: #0000FF; font-weight: bold } /* Name.Class */\n",
       ".output_html .no { color: #880000 } /* Name.Constant */\n",
       ".output_html .nd { color: #AA22FF } /* Name.Decorator */\n",
       ".output_html .ni { color: #999999; font-weight: bold } /* Name.Entity */\n",
       ".output_html .ne { color: #D2413A; font-weight: bold } /* Name.Exception */\n",
       ".output_html .nf { color: #0000FF } /* Name.Function */\n",
       ".output_html .nl { color: #A0A000 } /* Name.Label */\n",
       ".output_html .nn { color: #0000FF; font-weight: bold } /* Name.Namespace */\n",
       ".output_html .nt { color: #008000; font-weight: bold } /* Name.Tag */\n",
       ".output_html .nv { color: #19177C } /* Name.Variable */\n",
       ".output_html .ow { color: #AA22FF; font-weight: bold } /* Operator.Word */\n",
       ".output_html .w { color: #bbbbbb } /* Text.Whitespace */\n",
       ".output_html .mb { color: #666666 } /* Literal.Number.Bin */\n",
       ".output_html .mf { color: #666666 } /* Literal.Number.Float */\n",
       ".output_html .mh { color: #666666 } /* Literal.Number.Hex */\n",
       ".output_html .mi { color: #666666 } /* Literal.Number.Integer */\n",
       ".output_html .mo { color: #666666 } /* Literal.Number.Oct */\n",
       ".output_html .sa { color: #BA2121 } /* Literal.String.Affix */\n",
       ".output_html .sb { color: #BA2121 } /* Literal.String.Backtick */\n",
       ".output_html .sc { color: #BA2121 } /* Literal.String.Char */\n",
       ".output_html .dl { color: #BA2121 } /* Literal.String.Delimiter */\n",
       ".output_html .sd { color: #BA2121; font-style: italic } /* Literal.String.Doc */\n",
       ".output_html .s2 { color: #BA2121 } /* Literal.String.Double */\n",
       ".output_html .se { color: #BB6622; font-weight: bold } /* Literal.String.Escape */\n",
       ".output_html .sh { color: #BA2121 } /* Literal.String.Heredoc */\n",
       ".output_html .si { color: #BB6688; font-weight: bold } /* Literal.String.Interpol */\n",
       ".output_html .sx { color: #008000 } /* Literal.String.Other */\n",
       ".output_html .sr { color: #BB6688 } /* Literal.String.Regex */\n",
       ".output_html .s1 { color: #BA2121 } /* Literal.String.Single */\n",
       ".output_html .ss { color: #19177C } /* Literal.String.Symbol */\n",
       ".output_html .bp { color: #008000 } /* Name.Builtin.Pseudo */\n",
       ".output_html .fm { color: #0000FF } /* Name.Function.Magic */\n",
       ".output_html .vc { color: #19177C } /* Name.Variable.Class */\n",
       ".output_html .vg { color: #19177C } /* Name.Variable.Global */\n",
       ".output_html .vi { color: #19177C } /* Name.Variable.Instance */\n",
       ".output_html .vm { color: #19177C } /* Name.Variable.Magic */\n",
       ".output_html .il { color: #666666 } /* Literal.Number.Integer.Long */</style><div class=\"highlight\"><pre><span></span><span class=\"cp\">#include</span> <span class=\"cpf\">&lt;bits/stdc++.h&gt;</span><span class=\"cp\"></span>\n",
       "<span class=\"k\">using</span> <span class=\"k\">namespace</span> <span class=\"n\">std</span><span class=\"p\">;</span>\n",
       "\n",
       "<span class=\"kt\">int</span> <span class=\"nf\">main</span><span class=\"p\">()</span> <span class=\"p\">{</span>\n",
       "    <span class=\"kt\">int</span> <span class=\"n\">k</span><span class=\"p\">;</span>\n",
       "    <span class=\"c1\">// leer enteros hasta que se alcance el final de archivo (EOF)</span>\n",
       "    <span class=\"c1\">// se utiliza el operador != para comparar el resultado de scanf con EOF</span>\n",
       "    <span class=\"k\">while</span> <span class=\"p\">(</span><span class=\"n\">scanf</span><span class=\"p\">(</span><span class=\"s\">&quot;%d&quot;</span><span class=\"p\">,</span> <span class=\"o\">&amp;</span><span class=\"n\">k</span><span class=\"p\">)</span> <span class=\"o\">!=</span> <span class=\"n\">EOF</span><span class=\"p\">)</span> <span class=\"p\">{</span>\n",
       "        <span class=\"kt\">int</span> <span class=\"n\">ans</span> <span class=\"o\">=</span> <span class=\"mi\">0</span><span class=\"p\">,</span> <span class=\"n\">v</span><span class=\"p\">;</span>\n",
       "\n",
       "        <span class=\"k\">while</span> <span class=\"p\">(</span><span class=\"n\">k</span><span class=\"o\">--</span><span class=\"p\">)</span> <span class=\"p\">{</span>\n",
       "            <span class=\"n\">scanf</span><span class=\"p\">(</span><span class=\"s\">&quot;%d&quot;</span><span class=\"p\">,</span> <span class=\"o\">&amp;</span><span class=\"n\">v</span><span class=\"p\">);</span>\n",
       "            <span class=\"n\">ans</span> <span class=\"o\">+=</span> <span class=\"n\">v</span><span class=\"p\">;</span>\n",
       "        <span class=\"p\">}</span>\n",
       "\n",
       "        <span class=\"n\">printf</span><span class=\"p\">(</span><span class=\"s\">&quot;%d</span><span class=\"se\">\\n</span><span class=\"s\">&quot;</span><span class=\"p\">,</span> <span class=\"n\">ans</span><span class=\"p\">);</span>\n",
       "    <span class=\"p\">}</span>\n",
       "\n",
       "    <span class=\"k\">return</span> <span class=\"mi\">0</span><span class=\"p\">;</span>\n",
       "<span class=\"p\">}</span>\n",
       "</pre></div>\n"
      ],
      "text/latex": [
       "\\begin{Verbatim}[commandchars=\\\\\\{\\}]\n",
       "\\PY{c+cp}{\\PYZsh{}}\\PY{c+cp}{include} \\PY{c+cpf}{\\PYZlt{}bits/stdc++.h\\PYZgt{}}\n",
       "\\PY{k}{using} \\PY{k}{namespace} \\PY{n}{std}\\PY{p}{;}\n",
       "\n",
       "\\PY{k+kt}{int} \\PY{n+nf}{main}\\PY{p}{(}\\PY{p}{)} \\PY{p}{\\PYZob{}}\n",
       "    \\PY{k+kt}{int} \\PY{n}{k}\\PY{p}{;}\n",
       "    \\PY{c+c1}{// leer enteros hasta que se alcance el final de archivo (EOF)}\n",
       "    \\PY{c+c1}{// se utiliza el operador != para comparar el resultado de scanf con EOF}\n",
       "    \\PY{k}{while} \\PY{p}{(}\\PY{n}{scanf}\\PY{p}{(}\\PY{l+s}{\\PYZdq{}}\\PY{l+s}{\\PYZpc{}d}\\PY{l+s}{\\PYZdq{}}\\PY{p}{,} \\PY{o}{\\PYZam{}}\\PY{n}{k}\\PY{p}{)} \\PY{o}{!}\\PY{o}{=} \\PY{n}{EOF}\\PY{p}{)} \\PY{p}{\\PYZob{}}\n",
       "        \\PY{k+kt}{int} \\PY{n}{ans} \\PY{o}{=} \\PY{l+m+mi}{0}\\PY{p}{,} \\PY{n}{v}\\PY{p}{;}\n",
       "\n",
       "        \\PY{k}{while} \\PY{p}{(}\\PY{n}{k}\\PY{o}{\\PYZhy{}}\\PY{o}{\\PYZhy{}}\\PY{p}{)} \\PY{p}{\\PYZob{}}\n",
       "            \\PY{n}{scanf}\\PY{p}{(}\\PY{l+s}{\\PYZdq{}}\\PY{l+s}{\\PYZpc{}d}\\PY{l+s}{\\PYZdq{}}\\PY{p}{,} \\PY{o}{\\PYZam{}}\\PY{n}{v}\\PY{p}{)}\\PY{p}{;}\n",
       "            \\PY{n}{ans} \\PY{o}{+}\\PY{o}{=} \\PY{n}{v}\\PY{p}{;}\n",
       "        \\PY{p}{\\PYZcb{}}\n",
       "\n",
       "        \\PY{n}{printf}\\PY{p}{(}\\PY{l+s}{\\PYZdq{}}\\PY{l+s}{\\PYZpc{}d}\\PY{l+s+se}{\\PYZbs{}n}\\PY{l+s}{\\PYZdq{}}\\PY{p}{,} \\PY{n}{ans}\\PY{p}{)}\\PY{p}{;}\n",
       "    \\PY{p}{\\PYZcb{}}\n",
       "\n",
       "    \\PY{k}{return} \\PY{l+m+mi}{0}\\PY{p}{;}\n",
       "\\PY{p}{\\PYZcb{}}\n",
       "\\end{Verbatim}\n"
      ],
      "text/plain": [
       "#include <bits/stdc++.h>\n",
       "using namespace std;\n",
       "\n",
       "int main() {\n",
       "    int k;\n",
       "    // leer enteros hasta que se alcance el final de archivo (EOF)\n",
       "    // se utiliza el operador != para comparar el resultado de scanf con EOF\n",
       "    while (scanf(\"%d\", &k) != EOF) {\n",
       "        int ans = 0, v;\n",
       "\n",
       "        while (k--) {\n",
       "            scanf(\"%d\", &v);\n",
       "            ans += v;\n",
       "        }\n",
       "\n",
       "        printf(\"%d\\n\", ans);\n",
       "    }\n",
       "\n",
       "    return 0;\n",
       "}"
      ]
     },
     "execution_count": 23,
     "metadata": {},
     "output_type": "execute_result"
    }
   ],
   "source": [
    "IPython.display.Code(\"entradas/c++/EOF.cpp\")"
   ]
  },
  {
   "cell_type": "markdown",
   "metadata": {
    "slideshow": {
     "slide_type": "slide"
    }
   },
   "source": [
    "## Problemas Ad Hoc<a name=\"id4\"></a>\n",
    "---\n"
   ]
  },
  {
   "cell_type": "markdown",
   "metadata": {
    "slideshow": {
     "slide_type": "fragment"
    }
   },
   "source": [
    "### Definición<a name=\"id4.1\"></a>\n",
    "Los problemas ad hoc son aquellos que no requieren la aplicación de algoritmos estándar conocidos. Estos problemas pueden involucrar una variedad de temas y técnicas, y su solución puede requerir pensamiento creativo y habilidades de programación. "
   ]
  },
  {
   "cell_type": "markdown",
   "metadata": {
    "slideshow": {
     "slide_type": "slide"
    }
   },
   "source": [
    "### Ejemplo<a name=\"id4.2\"></a>\n",
    "[Moscow Dream](https://open.kattis.com/problems/moscowdream)\n",
    "\n",
    "The scientific committee of ICPC is trying their best to set up a problemset that is interesting and diverse in both topics and difficulty. They want to create a problemset which:\n",
    "\n",
    "- Consists of exactly problems\n",
    "- Has at least easy problem\n",
    "- Has at least medium problem\n",
    "- Has at least hard problem"
   ]
  },
  {
   "cell_type": "markdown",
   "metadata": {
    "slideshow": {
     "slide_type": "subslide"
    }
   },
   "source": [
    "Your task is to check whether it is possible to create such a problemset using the available problems.  \n",
    "\n",
    "**Input:**  \n",
    "\n",
    "The input contains $4$ integers $a$, $b$, $c$, $n$ $(0 \\leq a, b, c \\leq 10, 1 \\leq n \\leq 20)$.\n",
    "\n",
    "**Output:**  \n",
    "\n",
    "Print ```YES``` if it is possible to create a problemset satisfying above requirements, and ```NO``` otherwise."
   ]
  },
  {
   "cell_type": "code",
   "execution_count": 6,
   "metadata": {
    "scrolled": true,
    "slideshow": {
     "slide_type": "subslide"
    }
   },
   "outputs": [
    {
     "data": {
      "text/html": [
       "<style>.output_html .hll { background-color: #ffffcc }\n",
       ".output_html  { background: #f8f8f8; }\n",
       ".output_html .c { color: #408080; font-style: italic } /* Comment */\n",
       ".output_html .err { border: 1px solid #FF0000 } /* Error */\n",
       ".output_html .k { color: #008000; font-weight: bold } /* Keyword */\n",
       ".output_html .o { color: #666666 } /* Operator */\n",
       ".output_html .ch { color: #408080; font-style: italic } /* Comment.Hashbang */\n",
       ".output_html .cm { color: #408080; font-style: italic } /* Comment.Multiline */\n",
       ".output_html .cp { color: #BC7A00 } /* Comment.Preproc */\n",
       ".output_html .cpf { color: #408080; font-style: italic } /* Comment.PreprocFile */\n",
       ".output_html .c1 { color: #408080; font-style: italic } /* Comment.Single */\n",
       ".output_html .cs { color: #408080; font-style: italic } /* Comment.Special */\n",
       ".output_html .gd { color: #A00000 } /* Generic.Deleted */\n",
       ".output_html .ge { font-style: italic } /* Generic.Emph */\n",
       ".output_html .gr { color: #FF0000 } /* Generic.Error */\n",
       ".output_html .gh { color: #000080; font-weight: bold } /* Generic.Heading */\n",
       ".output_html .gi { color: #00A000 } /* Generic.Inserted */\n",
       ".output_html .go { color: #888888 } /* Generic.Output */\n",
       ".output_html .gp { color: #000080; font-weight: bold } /* Generic.Prompt */\n",
       ".output_html .gs { font-weight: bold } /* Generic.Strong */\n",
       ".output_html .gu { color: #800080; font-weight: bold } /* Generic.Subheading */\n",
       ".output_html .gt { color: #0044DD } /* Generic.Traceback */\n",
       ".output_html .kc { color: #008000; font-weight: bold } /* Keyword.Constant */\n",
       ".output_html .kd { color: #008000; font-weight: bold } /* Keyword.Declaration */\n",
       ".output_html .kn { color: #008000; font-weight: bold } /* Keyword.Namespace */\n",
       ".output_html .kp { color: #008000 } /* Keyword.Pseudo */\n",
       ".output_html .kr { color: #008000; font-weight: bold } /* Keyword.Reserved */\n",
       ".output_html .kt { color: #B00040 } /* Keyword.Type */\n",
       ".output_html .m { color: #666666 } /* Literal.Number */\n",
       ".output_html .s { color: #BA2121 } /* Literal.String */\n",
       ".output_html .na { color: #7D9029 } /* Name.Attribute */\n",
       ".output_html .nb { color: #008000 } /* Name.Builtin */\n",
       ".output_html .nc { color: #0000FF; font-weight: bold } /* Name.Class */\n",
       ".output_html .no { color: #880000 } /* Name.Constant */\n",
       ".output_html .nd { color: #AA22FF } /* Name.Decorator */\n",
       ".output_html .ni { color: #999999; font-weight: bold } /* Name.Entity */\n",
       ".output_html .ne { color: #D2413A; font-weight: bold } /* Name.Exception */\n",
       ".output_html .nf { color: #0000FF } /* Name.Function */\n",
       ".output_html .nl { color: #A0A000 } /* Name.Label */\n",
       ".output_html .nn { color: #0000FF; font-weight: bold } /* Name.Namespace */\n",
       ".output_html .nt { color: #008000; font-weight: bold } /* Name.Tag */\n",
       ".output_html .nv { color: #19177C } /* Name.Variable */\n",
       ".output_html .ow { color: #AA22FF; font-weight: bold } /* Operator.Word */\n",
       ".output_html .w { color: #bbbbbb } /* Text.Whitespace */\n",
       ".output_html .mb { color: #666666 } /* Literal.Number.Bin */\n",
       ".output_html .mf { color: #666666 } /* Literal.Number.Float */\n",
       ".output_html .mh { color: #666666 } /* Literal.Number.Hex */\n",
       ".output_html .mi { color: #666666 } /* Literal.Number.Integer */\n",
       ".output_html .mo { color: #666666 } /* Literal.Number.Oct */\n",
       ".output_html .sa { color: #BA2121 } /* Literal.String.Affix */\n",
       ".output_html .sb { color: #BA2121 } /* Literal.String.Backtick */\n",
       ".output_html .sc { color: #BA2121 } /* Literal.String.Char */\n",
       ".output_html .dl { color: #BA2121 } /* Literal.String.Delimiter */\n",
       ".output_html .sd { color: #BA2121; font-style: italic } /* Literal.String.Doc */\n",
       ".output_html .s2 { color: #BA2121 } /* Literal.String.Double */\n",
       ".output_html .se { color: #BB6622; font-weight: bold } /* Literal.String.Escape */\n",
       ".output_html .sh { color: #BA2121 } /* Literal.String.Heredoc */\n",
       ".output_html .si { color: #BB6688; font-weight: bold } /* Literal.String.Interpol */\n",
       ".output_html .sx { color: #008000 } /* Literal.String.Other */\n",
       ".output_html .sr { color: #BB6688 } /* Literal.String.Regex */\n",
       ".output_html .s1 { color: #BA2121 } /* Literal.String.Single */\n",
       ".output_html .ss { color: #19177C } /* Literal.String.Symbol */\n",
       ".output_html .bp { color: #008000 } /* Name.Builtin.Pseudo */\n",
       ".output_html .fm { color: #0000FF } /* Name.Function.Magic */\n",
       ".output_html .vc { color: #19177C } /* Name.Variable.Class */\n",
       ".output_html .vg { color: #19177C } /* Name.Variable.Global */\n",
       ".output_html .vi { color: #19177C } /* Name.Variable.Instance */\n",
       ".output_html .vm { color: #19177C } /* Name.Variable.Magic */\n",
       ".output_html .il { color: #666666 } /* Literal.Number.Integer.Long */</style><div class=\"highlight\"><pre><span></span><span class=\"kn\">import</span> <span class=\"nn\">sys</span>\n",
       "\n",
       "<span class=\"k\">def</span> <span class=\"nf\">convert_list_str_to_int</span><span class=\"p\">(</span><span class=\"n\">_list</span><span class=\"p\">):</span>\n",
       "    <span class=\"k\">return</span> <span class=\"nb\">list</span><span class=\"p\">(</span><span class=\"nb\">map</span><span class=\"p\">(</span><span class=\"nb\">int</span><span class=\"p\">,</span> <span class=\"n\">_list</span><span class=\"p\">))</span>\n",
       "\n",
       "<span class=\"c1\"># It works with EOF inputs</span>\n",
       "<span class=\"k\">def</span> <span class=\"nf\">read_lines</span><span class=\"p\">():</span>\n",
       "    <span class=\"n\">_input</span> <span class=\"o\">=</span> <span class=\"n\">sys</span><span class=\"o\">.</span><span class=\"n\">stdin</span><span class=\"o\">.</span><span class=\"n\">readlines</span><span class=\"p\">()</span>\n",
       "    <span class=\"k\">return</span> <span class=\"n\">_input</span>\n",
       "\n",
       "<span class=\"k\">def</span> <span class=\"nf\">read_line</span><span class=\"p\">():</span>\n",
       "    <span class=\"n\">_input</span> <span class=\"o\">=</span> <span class=\"n\">sys</span><span class=\"o\">.</span><span class=\"n\">stdin</span><span class=\"o\">.</span><span class=\"n\">readline</span><span class=\"p\">()</span>\n",
       "    <span class=\"k\">return</span> <span class=\"n\">_input</span>\n",
       "\n",
       "\n",
       "<span class=\"n\">a</span><span class=\"p\">,</span> <span class=\"n\">b</span><span class=\"p\">,</span> <span class=\"n\">c</span><span class=\"p\">,</span> <span class=\"n\">n</span> <span class=\"o\">=</span> <span class=\"n\">convert_list_str_to_int</span><span class=\"p\">(</span>\n",
       "    <span class=\"n\">read_line</span><span class=\"p\">()</span><span class=\"o\">.</span><span class=\"n\">split</span><span class=\"p\">())</span>\n",
       "\n",
       "<span class=\"c1\"># -----------------------------------------</span>\n",
       "<span class=\"c1\"># Solución</span>\n",
       "<span class=\"n\">_answer</span> <span class=\"o\">=</span> <span class=\"s2\">&quot;YES&quot;</span>\\\n",
       "    <span class=\"k\">if</span> <span class=\"p\">((</span><span class=\"n\">a</span> <span class=\"o\">&gt;=</span> <span class=\"mi\">1</span><span class=\"p\">)</span> <span class=\"ow\">and</span> <span class=\"p\">(</span><span class=\"n\">b</span> <span class=\"o\">&gt;=</span> <span class=\"mi\">1</span><span class=\"p\">)</span> <span class=\"ow\">and</span> <span class=\"p\">(</span><span class=\"n\">c</span> <span class=\"o\">&gt;=</span> <span class=\"mi\">1</span><span class=\"p\">)</span>\\\n",
       "        <span class=\"ow\">and</span> <span class=\"p\">(</span><span class=\"n\">a</span> <span class=\"o\">+</span> <span class=\"n\">b</span> <span class=\"o\">+</span> <span class=\"n\">c</span> <span class=\"o\">&gt;=</span> <span class=\"n\">n</span><span class=\"p\">)</span>\\\n",
       "        <span class=\"ow\">and</span> <span class=\"p\">(</span><span class=\"n\">n</span> <span class=\"o\">&gt;=</span> <span class=\"mi\">3</span><span class=\"p\">))</span>\\\n",
       "    <span class=\"k\">else</span> <span class=\"s2\">&quot;NO&quot;</span>\n",
       "\n",
       "<span class=\"k\">print</span><span class=\"p\">(</span><span class=\"n\">_answer</span><span class=\"p\">)</span>\n",
       "<span class=\"c1\"># -----------------------------------------</span>\n",
       "</pre></div>\n"
      ],
      "text/latex": [
       "\\begin{Verbatim}[commandchars=\\\\\\{\\}]\n",
       "\\PY{k+kn}{import} \\PY{n+nn}{sys}\n",
       "\n",
       "\\PY{k}{def} \\PY{n+nf}{convert\\PYZus{}list\\PYZus{}str\\PYZus{}to\\PYZus{}int}\\PY{p}{(}\\PY{n}{\\PYZus{}list}\\PY{p}{)}\\PY{p}{:}\n",
       "    \\PY{k}{return} \\PY{n+nb}{list}\\PY{p}{(}\\PY{n+nb}{map}\\PY{p}{(}\\PY{n+nb}{int}\\PY{p}{,} \\PY{n}{\\PYZus{}list}\\PY{p}{)}\\PY{p}{)}\n",
       "\n",
       "\\PY{c+c1}{\\PYZsh{} It works with EOF inputs}\n",
       "\\PY{k}{def} \\PY{n+nf}{read\\PYZus{}lines}\\PY{p}{(}\\PY{p}{)}\\PY{p}{:}\n",
       "    \\PY{n}{\\PYZus{}input} \\PY{o}{=} \\PY{n}{sys}\\PY{o}{.}\\PY{n}{stdin}\\PY{o}{.}\\PY{n}{readlines}\\PY{p}{(}\\PY{p}{)}\n",
       "    \\PY{k}{return} \\PY{n}{\\PYZus{}input}\n",
       "\n",
       "\\PY{k}{def} \\PY{n+nf}{read\\PYZus{}line}\\PY{p}{(}\\PY{p}{)}\\PY{p}{:}\n",
       "    \\PY{n}{\\PYZus{}input} \\PY{o}{=} \\PY{n}{sys}\\PY{o}{.}\\PY{n}{stdin}\\PY{o}{.}\\PY{n}{readline}\\PY{p}{(}\\PY{p}{)}\n",
       "    \\PY{k}{return} \\PY{n}{\\PYZus{}input}\n",
       "\n",
       "\n",
       "\\PY{n}{a}\\PY{p}{,} \\PY{n}{b}\\PY{p}{,} \\PY{n}{c}\\PY{p}{,} \\PY{n}{n} \\PY{o}{=} \\PY{n}{convert\\PYZus{}list\\PYZus{}str\\PYZus{}to\\PYZus{}int}\\PY{p}{(}\n",
       "    \\PY{n}{read\\PYZus{}line}\\PY{p}{(}\\PY{p}{)}\\PY{o}{.}\\PY{n}{split}\\PY{p}{(}\\PY{p}{)}\\PY{p}{)}\n",
       "\n",
       "\\PY{c+c1}{\\PYZsh{} \\PYZhy{}\\PYZhy{}\\PYZhy{}\\PYZhy{}\\PYZhy{}\\PYZhy{}\\PYZhy{}\\PYZhy{}\\PYZhy{}\\PYZhy{}\\PYZhy{}\\PYZhy{}\\PYZhy{}\\PYZhy{}\\PYZhy{}\\PYZhy{}\\PYZhy{}\\PYZhy{}\\PYZhy{}\\PYZhy{}\\PYZhy{}\\PYZhy{}\\PYZhy{}\\PYZhy{}\\PYZhy{}\\PYZhy{}\\PYZhy{}\\PYZhy{}\\PYZhy{}\\PYZhy{}\\PYZhy{}\\PYZhy{}\\PYZhy{}\\PYZhy{}\\PYZhy{}\\PYZhy{}\\PYZhy{}\\PYZhy{}\\PYZhy{}\\PYZhy{}\\PYZhy{}}\n",
       "\\PY{c+c1}{\\PYZsh{} Solución}\n",
       "\\PY{n}{\\PYZus{}answer} \\PY{o}{=} \\PY{l+s+s2}{\\PYZdq{}}\\PY{l+s+s2}{YES}\\PY{l+s+s2}{\\PYZdq{}}\\PYZbs{}\n",
       "    \\PY{k}{if} \\PY{p}{(}\\PY{p}{(}\\PY{n}{a} \\PY{o}{\\PYZgt{}}\\PY{o}{=} \\PY{l+m+mi}{1}\\PY{p}{)} \\PY{o+ow}{and} \\PY{p}{(}\\PY{n}{b} \\PY{o}{\\PYZgt{}}\\PY{o}{=} \\PY{l+m+mi}{1}\\PY{p}{)} \\PY{o+ow}{and} \\PY{p}{(}\\PY{n}{c} \\PY{o}{\\PYZgt{}}\\PY{o}{=} \\PY{l+m+mi}{1}\\PY{p}{)}\\PYZbs{}\n",
       "        \\PY{o+ow}{and} \\PY{p}{(}\\PY{n}{a} \\PY{o}{+} \\PY{n}{b} \\PY{o}{+} \\PY{n}{c} \\PY{o}{\\PYZgt{}}\\PY{o}{=} \\PY{n}{n}\\PY{p}{)}\\PYZbs{}\n",
       "        \\PY{o+ow}{and} \\PY{p}{(}\\PY{n}{n} \\PY{o}{\\PYZgt{}}\\PY{o}{=} \\PY{l+m+mi}{3}\\PY{p}{)}\\PY{p}{)}\\PYZbs{}\n",
       "    \\PY{k}{else} \\PY{l+s+s2}{\\PYZdq{}}\\PY{l+s+s2}{NO}\\PY{l+s+s2}{\\PYZdq{}}\n",
       "\n",
       "\\PY{k}{print}\\PY{p}{(}\\PY{n}{\\PYZus{}answer}\\PY{p}{)}\n",
       "\\PY{c+c1}{\\PYZsh{} \\PYZhy{}\\PYZhy{}\\PYZhy{}\\PYZhy{}\\PYZhy{}\\PYZhy{}\\PYZhy{}\\PYZhy{}\\PYZhy{}\\PYZhy{}\\PYZhy{}\\PYZhy{}\\PYZhy{}\\PYZhy{}\\PYZhy{}\\PYZhy{}\\PYZhy{}\\PYZhy{}\\PYZhy{}\\PYZhy{}\\PYZhy{}\\PYZhy{}\\PYZhy{}\\PYZhy{}\\PYZhy{}\\PYZhy{}\\PYZhy{}\\PYZhy{}\\PYZhy{}\\PYZhy{}\\PYZhy{}\\PYZhy{}\\PYZhy{}\\PYZhy{}\\PYZhy{}\\PYZhy{}\\PYZhy{}\\PYZhy{}\\PYZhy{}\\PYZhy{}\\PYZhy{}}\n",
       "\\end{Verbatim}\n"
      ],
      "text/plain": [
       "import sys\n",
       "\n",
       "def convert_list_str_to_int(_list):\n",
       "    return list(map(int, _list))\n",
       "\n",
       "# It works with EOF inputs\n",
       "def read_lines():\n",
       "    _input = sys.stdin.readlines()\n",
       "    return _input\n",
       "\n",
       "def read_line():\n",
       "    _input = sys.stdin.readline()\n",
       "    return _input\n",
       "\n",
       "\n",
       "a, b, c, n = convert_list_str_to_int(\n",
       "    read_line().split())\n",
       "\n",
       "# -----------------------------------------\n",
       "# Solución\n",
       "_answer = \"YES\"\\\n",
       "    if ((a >= 1) and (b >= 1) and (c >= 1)\\\n",
       "        and (a + b + c >= n)\\\n",
       "        and (n >= 3))\\\n",
       "    else \"NO\"\n",
       "\n",
       "print(_answer)\n",
       "# -----------------------------------------"
      ]
     },
     "execution_count": 6,
     "metadata": {},
     "output_type": "execute_result"
    }
   ],
   "source": [
    "## Solución\n",
    "IPython.display.Code(\"problemas/moscow_dream/moscowdream.py\")"
   ]
  },
  {
   "cell_type": "markdown",
   "metadata": {
    "slideshow": {
     "slide_type": "slide"
    }
   },
   "source": [
    "## Problemas para entrenar<a name=\"id5\"></a>"
   ]
  },
  {
   "cell_type": "markdown",
   "metadata": {
    "slideshow": {
     "slide_type": "fragment"
    }
   },
   "source": [
    "### Principiantes<a name=\"id5.1\"></a>\n",
    "---\n",
    "[Maraton en VJudge](https://vjudge.net/contest/547108)"
   ]
  },
  {
   "cell_type": "markdown",
   "metadata": {
    "slideshow": {
     "slide_type": "fragment"
    }
   },
   "source": [
    "### Intermedios<a name=\"id4.2\"></a>\n",
    "[Maraton en VJudge](https://vjudge.net/contest/547110)"
   ]
  },
  {
   "cell_type": "markdown",
   "metadata": {
    "slideshow": {
     "slide_type": "slide"
    }
   },
   "source": [
    "## Trucos y Recomendaciones<a name=\"id6\"></a>\n",
    "---"
   ]
  },
  {
   "cell_type": "markdown",
   "metadata": {
    "slideshow": {
     "slide_type": "slide"
    }
   },
   "source": [
    "### BigO - Complejidad algoritmica\n",
    "\n",
    "- Los ordenadores actualmente pueden procesar hasta ~ $100M$ ($10^8$) operaciones por segundo.\n",
    "- El tamaño de entrada n tipico en un concurso de programación deberia de ser $< 1M$ ($10^6$). De lo contrario, el reto estará en optimizar la lectura de los datos.\n",
    "- Usualmentos los algoritmos de complejidad $O(n)$ o $O(n log n)$ son suficientes para resolver la mayoría de los problemas.\n"
   ]
  },
  {
   "cell_type": "markdown",
   "metadata": {
    "slideshow": {
     "slide_type": "subslide"
    }
   },
   "source": [
    "![Tabla de BigO máximo](imagenes/BigO_limits.png)"
   ]
  },
  {
   "cell_type": "markdown",
   "metadata": {
    "slideshow": {
     "slide_type": "slide"
    }
   },
   "source": [
    "### Códigos cortos\n",
    "\n",
    "- Transpuesta de una matriz (Python):\n",
    "\n",
    "```{python}\n",
    "A = [(1, 2, 3), (4, 5, 6)]\n",
    "[*zip(*A)]\n",
    "\n",
    "Out: [(1, 4), (2, 5), (3, 6)]\n",
    "```"
   ]
  },
  {
   "cell_type": "code",
   "execution_count": null,
   "metadata": {},
   "outputs": [],
   "source": []
  }
 ],
 "metadata": {
  "celltoolbar": "Edit Metadata",
  "kernelspec": {
   "display_name": "sesion-01-032023-2-tnak3v-py3.11",
   "language": "python",
   "name": "sesion-01-032023-2-tnak3v-py3.11"
  },
  "language_info": {
   "codemirror_mode": {
    "name": "ipython",
    "version": 3
   },
   "file_extension": ".py",
   "mimetype": "text/x-python",
   "name": "python",
   "nbconvert_exporter": "python",
   "pygments_lexer": "ipython3",
   "version": "3.7.0"
  },
  "livereveal": {
   "autolaunch": true,
   "scroll": true
  }
 },
 "nbformat": 4,
 "nbformat_minor": 2
}
